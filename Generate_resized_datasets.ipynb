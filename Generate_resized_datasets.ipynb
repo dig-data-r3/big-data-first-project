{
 "cells": [
  {
   "cell_type": "code",
   "execution_count": 1,
   "id": "9d82ea2e",
   "metadata": {},
   "outputs": [],
   "source": [
    "import pandas as pd\n",
    "import os"
   ]
  },
  {
   "cell_type": "code",
   "execution_count": 2,
   "id": "89201320",
   "metadata": {},
   "outputs": [],
   "source": [
    "stock_prices = pd.read_csv('dataset/historical_stock_prices2048.csv')"
   ]
  },
  {
   "cell_type": "code",
   "execution_count": 3,
   "id": "8194b124",
   "metadata": {},
   "outputs": [
    {
     "data": {
      "text/plain": [
       "(20973889, 8)"
      ]
     },
     "execution_count": 3,
     "metadata": {},
     "output_type": "execute_result"
    }
   ],
   "source": [
    "stock_prices.shape"
   ]
  },
  {
   "cell_type": "code",
   "execution_count": 4,
   "id": "ac196d5d",
   "metadata": {},
   "outputs": [
    {
     "data": {
      "text/html": [
       "<div>\n",
       "<style scoped>\n",
       "    .dataframe tbody tr th:only-of-type {\n",
       "        vertical-align: middle;\n",
       "    }\n",
       "\n",
       "    .dataframe tbody tr th {\n",
       "        vertical-align: top;\n",
       "    }\n",
       "\n",
       "    .dataframe thead th {\n",
       "        text-align: right;\n",
       "    }\n",
       "</style>\n",
       "<table border=\"1\" class=\"dataframe\">\n",
       "  <thead>\n",
       "    <tr style=\"text-align: right;\">\n",
       "      <th></th>\n",
       "      <th>ticker</th>\n",
       "      <th>open</th>\n",
       "      <th>close</th>\n",
       "      <th>adj_close</th>\n",
       "      <th>low</th>\n",
       "      <th>high</th>\n",
       "      <th>volume</th>\n",
       "      <th>date</th>\n",
       "    </tr>\n",
       "  </thead>\n",
       "  <tbody>\n",
       "    <tr>\n",
       "      <th>0</th>\n",
       "      <td>AHH</td>\n",
       "      <td>11.50</td>\n",
       "      <td>11.58</td>\n",
       "      <td>8.493155</td>\n",
       "      <td>11.25</td>\n",
       "      <td>11.68</td>\n",
       "      <td>4633900</td>\n",
       "      <td>2013-05-08</td>\n",
       "    </tr>\n",
       "    <tr>\n",
       "      <th>1</th>\n",
       "      <td>AHH</td>\n",
       "      <td>11.66</td>\n",
       "      <td>11.55</td>\n",
       "      <td>8.471151</td>\n",
       "      <td>11.50</td>\n",
       "      <td>11.66</td>\n",
       "      <td>275800</td>\n",
       "      <td>2013-05-09</td>\n",
       "    </tr>\n",
       "    <tr>\n",
       "      <th>2</th>\n",
       "      <td>AHH</td>\n",
       "      <td>11.55</td>\n",
       "      <td>11.60</td>\n",
       "      <td>8.507822</td>\n",
       "      <td>11.50</td>\n",
       "      <td>11.60</td>\n",
       "      <td>277100</td>\n",
       "      <td>2013-05-10</td>\n",
       "    </tr>\n",
       "    <tr>\n",
       "      <th>3</th>\n",
       "      <td>AHH</td>\n",
       "      <td>11.63</td>\n",
       "      <td>11.65</td>\n",
       "      <td>8.544494</td>\n",
       "      <td>11.55</td>\n",
       "      <td>11.65</td>\n",
       "      <td>147400</td>\n",
       "      <td>2013-05-13</td>\n",
       "    </tr>\n",
       "    <tr>\n",
       "      <th>4</th>\n",
       "      <td>AHH</td>\n",
       "      <td>11.60</td>\n",
       "      <td>11.53</td>\n",
       "      <td>8.456484</td>\n",
       "      <td>11.50</td>\n",
       "      <td>11.60</td>\n",
       "      <td>184100</td>\n",
       "      <td>2013-05-14</td>\n",
       "    </tr>\n",
       "  </tbody>\n",
       "</table>\n",
       "</div>"
      ],
      "text/plain": [
       "  ticker   open  close  adj_close    low   high   volume        date\n",
       "0    AHH  11.50  11.58   8.493155  11.25  11.68  4633900  2013-05-08\n",
       "1    AHH  11.66  11.55   8.471151  11.50  11.66   275800  2013-05-09\n",
       "2    AHH  11.55  11.60   8.507822  11.50  11.60   277100  2013-05-10\n",
       "3    AHH  11.63  11.65   8.544494  11.55  11.65   147400  2013-05-13\n",
       "4    AHH  11.60  11.53   8.456484  11.50  11.60   184100  2013-05-14"
      ]
     },
     "execution_count": 4,
     "metadata": {},
     "output_type": "execute_result"
    }
   ],
   "source": [
    "stock_prices.head()"
   ]
  },
  {
   "cell_type": "code",
   "execution_count": 5,
   "id": "852d8857",
   "metadata": {},
   "outputs": [],
   "source": [
    "size = os.path.getsize('dataset/historical_stock_prices2048.csv')"
   ]
  },
  {
   "cell_type": "code",
   "execution_count": 6,
   "id": "65d189e3",
   "metadata": {},
   "outputs": [],
   "source": [
    "def bytes_to_mb(size):\n",
    "    print(round(size / (1024 * 1024), 2))"
   ]
  },
  {
   "cell_type": "code",
   "execution_count": 7,
   "id": "1f13222d",
   "metadata": {},
   "outputs": [
    {
     "name": "stdout",
     "output_type": "stream",
     "text": [
      "1909.97\n"
     ]
    }
   ],
   "source": [
    "bytes_to_mb(size)"
   ]
  },
  {
   "cell_type": "code",
   "execution_count": 8,
   "id": "635ffc88",
   "metadata": {},
   "outputs": [],
   "source": [
    "dataset_sizes2 = [0.125, 0.25, 0.5, 2]\n",
    "dataset_sizes = [2]"
   ]
  },
  {
   "cell_type": "code",
   "execution_count": 9,
   "id": "b294c4ef",
   "metadata": {},
   "outputs": [
    {
     "name": "stdout",
     "output_type": "stream",
     "text": [
      "41947778\n"
     ]
    }
   ],
   "source": [
    "for size in dataset_sizes:\n",
    "    print(round(stock_prices.shape[0] * size))"
   ]
  },
  {
   "cell_type": "code",
   "execution_count": 10,
   "id": "d0c18bd4",
   "metadata": {},
   "outputs": [],
   "source": [
    "def sample_all_sizes(dataset):\n",
    "    for size in dataset_sizes:\n",
    "        n_rows = round(dataset.shape[0] * size)\n",
    "        sampled_df = dataset.sample(n=n_rows, random_state=42, replace=True)\n",
    "        filename = 'dataset/historical_stock_prices{}.csv'.format(int(size*2048))\n",
    "        sampled_df.to_csv(filename, index=False)"
   ]
  },
  {
   "cell_type": "code",
   "execution_count": 11,
   "id": "9dbeff23",
   "metadata": {},
   "outputs": [
    {
     "data": {
      "text/html": [
       "<div>\n",
       "<style scoped>\n",
       "    .dataframe tbody tr th:only-of-type {\n",
       "        vertical-align: middle;\n",
       "    }\n",
       "\n",
       "    .dataframe tbody tr th {\n",
       "        vertical-align: top;\n",
       "    }\n",
       "\n",
       "    .dataframe thead th {\n",
       "        text-align: right;\n",
       "    }\n",
       "</style>\n",
       "<table border=\"1\" class=\"dataframe\">\n",
       "  <thead>\n",
       "    <tr style=\"text-align: right;\">\n",
       "      <th></th>\n",
       "      <th>ticker</th>\n",
       "      <th>open</th>\n",
       "      <th>close</th>\n",
       "      <th>adj_close</th>\n",
       "      <th>low</th>\n",
       "      <th>high</th>\n",
       "      <th>volume</th>\n",
       "      <th>date</th>\n",
       "    </tr>\n",
       "  </thead>\n",
       "  <tbody>\n",
       "    <tr>\n",
       "      <th>16094478</th>\n",
       "      <td>ARCI</td>\n",
       "      <td>4.890000</td>\n",
       "      <td>4.620000</td>\n",
       "      <td>4.620000</td>\n",
       "      <td>4.510000</td>\n",
       "      <td>4.970000</td>\n",
       "      <td>54500</td>\n",
       "      <td>2012-03-07</td>\n",
       "    </tr>\n",
       "    <tr>\n",
       "      <th>13315092</th>\n",
       "      <td>PTR</td>\n",
       "      <td>154.490005</td>\n",
       "      <td>153.279999</td>\n",
       "      <td>110.399284</td>\n",
       "      <td>151.899994</td>\n",
       "      <td>154.910004</td>\n",
       "      <td>847000</td>\n",
       "      <td>2008-02-28</td>\n",
       "    </tr>\n",
       "    <tr>\n",
       "      <th>2234489</th>\n",
       "      <td>SSFN</td>\n",
       "      <td>5.256630</td>\n",
       "      <td>5.256630</td>\n",
       "      <td>3.225943</td>\n",
       "      <td>5.256630</td>\n",
       "      <td>5.256630</td>\n",
       "      <td>500</td>\n",
       "      <td>2000-05-16</td>\n",
       "    </tr>\n",
       "    <tr>\n",
       "      <th>14586186</th>\n",
       "      <td>LALT</td>\n",
       "      <td>22.261999</td>\n",
       "      <td>22.382999</td>\n",
       "      <td>22.281929</td>\n",
       "      <td>22.240000</td>\n",
       "      <td>22.382999</td>\n",
       "      <td>5800</td>\n",
       "      <td>2017-03-22</td>\n",
       "    </tr>\n",
       "    <tr>\n",
       "      <th>9628519</th>\n",
       "      <td>SGYP</td>\n",
       "      <td>5.200000</td>\n",
       "      <td>5.160000</td>\n",
       "      <td>5.160000</td>\n",
       "      <td>5.150000</td>\n",
       "      <td>5.330000</td>\n",
       "      <td>1916200</td>\n",
       "      <td>2016-10-14</td>\n",
       "    </tr>\n",
       "  </tbody>\n",
       "</table>\n",
       "</div>"
      ],
      "text/plain": [
       "         ticker        open       close   adj_close         low        high  \\\n",
       "16094478   ARCI    4.890000    4.620000    4.620000    4.510000    4.970000   \n",
       "13315092    PTR  154.490005  153.279999  110.399284  151.899994  154.910004   \n",
       "2234489    SSFN    5.256630    5.256630    3.225943    5.256630    5.256630   \n",
       "14586186   LALT   22.261999   22.382999   22.281929   22.240000   22.382999   \n",
       "9628519    SGYP    5.200000    5.160000    5.160000    5.150000    5.330000   \n",
       "\n",
       "           volume        date  \n",
       "16094478    54500  2012-03-07  \n",
       "13315092   847000  2008-02-28  \n",
       "2234489       500  2000-05-16  \n",
       "14586186     5800  2017-03-22  \n",
       "9628519   1916200  2016-10-14  "
      ]
     },
     "execution_count": 11,
     "metadata": {},
     "output_type": "execute_result"
    }
   ],
   "source": [
    "df_small = stock_prices.sample(n=5, random_state=42, replace=True)\n",
    "df_small"
   ]
  },
  {
   "cell_type": "code",
   "execution_count": null,
   "id": "a639dd4e",
   "metadata": {},
   "outputs": [],
   "source": [
    "sample_all_sizes(stock_prices)"
   ]
  },
  {
   "cell_type": "code",
   "execution_count": null,
   "id": "ef4f6b71",
   "metadata": {},
   "outputs": [],
   "source": []
  }
 ],
 "metadata": {
  "kernelspec": {
   "display_name": "Python 3",
   "language": "python",
   "name": "python3"
  },
  "language_info": {
   "codemirror_mode": {
    "name": "ipython",
    "version": 3
   },
   "file_extension": ".py",
   "mimetype": "text/x-python",
   "name": "python",
   "nbconvert_exporter": "python",
   "pygments_lexer": "ipython3",
   "version": "3.7.10"
  }
 },
 "nbformat": 4,
 "nbformat_minor": 5
}
