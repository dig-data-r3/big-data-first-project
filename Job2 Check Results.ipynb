{
 "cells": [
  {
   "cell_type": "code",
   "execution_count": 2,
   "id": "deb291ee",
   "metadata": {},
   "outputs": [],
   "source": [
    "import pandas as pd"
   ]
  },
  {
   "cell_type": "code",
   "execution_count": 3,
   "id": "da76516d",
   "metadata": {},
   "outputs": [],
   "source": [
    "import datetime as dt"
   ]
  },
  {
   "cell_type": "code",
   "execution_count": 4,
   "id": "fd01891d",
   "metadata": {},
   "outputs": [],
   "source": [
    "import dask.dataframe as dd"
   ]
  },
  {
   "cell_type": "code",
   "execution_count": 4,
   "id": "54dc43c4",
   "metadata": {},
   "outputs": [],
   "source": [
    "stock_prices = pd.read_csv(\"dataset/historical_stock_prices.csv\")"
   ]
  },
  {
   "cell_type": "code",
   "execution_count": 5,
   "id": "448444e2",
   "metadata": {},
   "outputs": [],
   "source": [
    "stocks = pd.read_csv(\"dataset/historical_stocks_clean.csv\")"
   ]
  },
  {
   "cell_type": "code",
   "execution_count": 7,
   "id": "dec680b5",
   "metadata": {},
   "outputs": [
    {
     "data": {
      "text/html": [
       "<div>\n",
       "<style scoped>\n",
       "    .dataframe tbody tr th:only-of-type {\n",
       "        vertical-align: middle;\n",
       "    }\n",
       "\n",
       "    .dataframe tbody tr th {\n",
       "        vertical-align: top;\n",
       "    }\n",
       "\n",
       "    .dataframe thead th {\n",
       "        text-align: right;\n",
       "    }\n",
       "</style>\n",
       "<table border=\"1\" class=\"dataframe\">\n",
       "  <thead>\n",
       "    <tr style=\"text-align: right;\">\n",
       "      <th></th>\n",
       "      <th>ticker</th>\n",
       "      <th>open</th>\n",
       "      <th>close</th>\n",
       "      <th>adj_close</th>\n",
       "      <th>low</th>\n",
       "      <th>high</th>\n",
       "      <th>volume</th>\n",
       "      <th>date</th>\n",
       "    </tr>\n",
       "  </thead>\n",
       "  <tbody>\n",
       "    <tr>\n",
       "      <th>0</th>\n",
       "      <td>AHH</td>\n",
       "      <td>11.50</td>\n",
       "      <td>11.58</td>\n",
       "      <td>8.493155</td>\n",
       "      <td>11.25</td>\n",
       "      <td>11.68</td>\n",
       "      <td>4633900</td>\n",
       "      <td>2013-05-08</td>\n",
       "    </tr>\n",
       "    <tr>\n",
       "      <th>1</th>\n",
       "      <td>AHH</td>\n",
       "      <td>11.66</td>\n",
       "      <td>11.55</td>\n",
       "      <td>8.471151</td>\n",
       "      <td>11.50</td>\n",
       "      <td>11.66</td>\n",
       "      <td>275800</td>\n",
       "      <td>2013-05-09</td>\n",
       "    </tr>\n",
       "    <tr>\n",
       "      <th>2</th>\n",
       "      <td>AHH</td>\n",
       "      <td>11.55</td>\n",
       "      <td>11.60</td>\n",
       "      <td>8.507822</td>\n",
       "      <td>11.50</td>\n",
       "      <td>11.60</td>\n",
       "      <td>277100</td>\n",
       "      <td>2013-05-10</td>\n",
       "    </tr>\n",
       "    <tr>\n",
       "      <th>3</th>\n",
       "      <td>AHH</td>\n",
       "      <td>11.63</td>\n",
       "      <td>11.65</td>\n",
       "      <td>8.544494</td>\n",
       "      <td>11.55</td>\n",
       "      <td>11.65</td>\n",
       "      <td>147400</td>\n",
       "      <td>2013-05-13</td>\n",
       "    </tr>\n",
       "    <tr>\n",
       "      <th>4</th>\n",
       "      <td>AHH</td>\n",
       "      <td>11.60</td>\n",
       "      <td>11.53</td>\n",
       "      <td>8.456484</td>\n",
       "      <td>11.50</td>\n",
       "      <td>11.60</td>\n",
       "      <td>184100</td>\n",
       "      <td>2013-05-14</td>\n",
       "    </tr>\n",
       "    <tr>\n",
       "      <th>...</th>\n",
       "      <td>...</td>\n",
       "      <td>...</td>\n",
       "      <td>...</td>\n",
       "      <td>...</td>\n",
       "      <td>...</td>\n",
       "      <td>...</td>\n",
       "      <td>...</td>\n",
       "      <td>...</td>\n",
       "    </tr>\n",
       "    <tr>\n",
       "      <th>20973884</th>\n",
       "      <td>NZF</td>\n",
       "      <td>14.60</td>\n",
       "      <td>14.59</td>\n",
       "      <td>14.590000</td>\n",
       "      <td>14.58</td>\n",
       "      <td>14.62</td>\n",
       "      <td>137500</td>\n",
       "      <td>2018-08-20</td>\n",
       "    </tr>\n",
       "    <tr>\n",
       "      <th>20973885</th>\n",
       "      <td>NZF</td>\n",
       "      <td>14.60</td>\n",
       "      <td>14.58</td>\n",
       "      <td>14.580000</td>\n",
       "      <td>14.57</td>\n",
       "      <td>14.61</td>\n",
       "      <td>151200</td>\n",
       "      <td>2018-08-21</td>\n",
       "    </tr>\n",
       "    <tr>\n",
       "      <th>20973886</th>\n",
       "      <td>NZF</td>\n",
       "      <td>14.58</td>\n",
       "      <td>14.59</td>\n",
       "      <td>14.590000</td>\n",
       "      <td>14.57</td>\n",
       "      <td>14.63</td>\n",
       "      <td>185400</td>\n",
       "      <td>2018-08-22</td>\n",
       "    </tr>\n",
       "    <tr>\n",
       "      <th>20973887</th>\n",
       "      <td>NZF</td>\n",
       "      <td>14.60</td>\n",
       "      <td>14.57</td>\n",
       "      <td>14.570000</td>\n",
       "      <td>14.57</td>\n",
       "      <td>14.64</td>\n",
       "      <td>135600</td>\n",
       "      <td>2018-08-23</td>\n",
       "    </tr>\n",
       "    <tr>\n",
       "      <th>20973888</th>\n",
       "      <td>NZF</td>\n",
       "      <td>14.60</td>\n",
       "      <td>14.69</td>\n",
       "      <td>14.690000</td>\n",
       "      <td>14.59</td>\n",
       "      <td>14.69</td>\n",
       "      <td>180900</td>\n",
       "      <td>2018-08-24</td>\n",
       "    </tr>\n",
       "  </tbody>\n",
       "</table>\n",
       "<p>20973889 rows × 8 columns</p>\n",
       "</div>"
      ],
      "text/plain": [
       "         ticker   open  close  adj_close    low   high   volume        date\n",
       "0           AHH  11.50  11.58   8.493155  11.25  11.68  4633900  2013-05-08\n",
       "1           AHH  11.66  11.55   8.471151  11.50  11.66   275800  2013-05-09\n",
       "2           AHH  11.55  11.60   8.507822  11.50  11.60   277100  2013-05-10\n",
       "3           AHH  11.63  11.65   8.544494  11.55  11.65   147400  2013-05-13\n",
       "4           AHH  11.60  11.53   8.456484  11.50  11.60   184100  2013-05-14\n",
       "...         ...    ...    ...        ...    ...    ...      ...         ...\n",
       "20973884    NZF  14.60  14.59  14.590000  14.58  14.62   137500  2018-08-20\n",
       "20973885    NZF  14.60  14.58  14.580000  14.57  14.61   151200  2018-08-21\n",
       "20973886    NZF  14.58  14.59  14.590000  14.57  14.63   185400  2018-08-22\n",
       "20973887    NZF  14.60  14.57  14.570000  14.57  14.64   135600  2018-08-23\n",
       "20973888    NZF  14.60  14.69  14.690000  14.59  14.69   180900  2018-08-24\n",
       "\n",
       "[20973889 rows x 8 columns]"
      ]
     },
     "execution_count": 7,
     "metadata": {},
     "output_type": "execute_result"
    }
   ],
   "source": [
    "stock_prices"
   ]
  },
  {
   "cell_type": "code",
   "execution_count": 8,
   "id": "6c41e5d7",
   "metadata": {},
   "outputs": [],
   "source": [
    "stock_prices['date'] = pd.to_datetime(stock_prices['date'])"
   ]
  },
  {
   "cell_type": "code",
   "execution_count": 9,
   "id": "5ae2165d",
   "metadata": {},
   "outputs": [],
   "source": [
    "filterdate = stock_prices[stock_prices['date'].dt.year == 2010]"
   ]
  },
  {
   "cell_type": "code",
   "execution_count": 10,
   "id": "286c8fc4",
   "metadata": {},
   "outputs": [],
   "source": [
    "filtered = filterdate[filterdate['ticker'] == 'FCX']"
   ]
  },
  {
   "cell_type": "code",
   "execution_count": 11,
   "id": "63019065",
   "metadata": {},
   "outputs": [
    {
     "data": {
      "text/plain": [
       "6891808600"
      ]
     },
     "execution_count": 11,
     "metadata": {},
     "output_type": "execute_result"
    }
   ],
   "source": [
    "vol = filtered['volume'].sum()\n",
    "vol"
   ]
  },
  {
   "cell_type": "code",
   "execution_count": 12,
   "id": "94f90ddd",
   "metadata": {},
   "outputs": [],
   "source": [
    "filtered2 = filterdate[filterdate['ticker'] == 'DWDP']"
   ]
  },
  {
   "cell_type": "code",
   "execution_count": 13,
   "id": "1cd2ee59",
   "metadata": {},
   "outputs": [
    {
     "data": {
      "text/plain": [
       "2636375000"
      ]
     },
     "execution_count": 13,
     "metadata": {},
     "output_type": "execute_result"
    }
   ],
   "source": [
    "vol2 = filtered2['volume'].sum()\n",
    "vol2"
   ]
  },
  {
   "cell_type": "code",
   "execution_count": 14,
   "id": "92c2d376",
   "metadata": {},
   "outputs": [
    {
     "data": {
      "text/plain": [
       "4255433600"
      ]
     },
     "execution_count": 14,
     "metadata": {},
     "output_type": "execute_result"
    }
   ],
   "source": [
    "vol - vol2"
   ]
  },
  {
   "cell_type": "markdown",
   "id": "659dcdd7",
   "metadata": {},
   "source": [
    "Trying Dask out-of-core dataset merge (can't get Jupyter to use more memory)\n",
    "\n",
    "https://stackoverflow.com/questions/37756991/best-way-to-join-two-large-datasets-in-pandas"
   ]
  },
  {
   "cell_type": "code",
   "execution_count": 5,
   "id": "de48a2b1",
   "metadata": {},
   "outputs": [],
   "source": [
    "stock_prices = dd.read_csv(\"dataset/historical_stock_prices.csv\")"
   ]
  },
  {
   "cell_type": "code",
   "execution_count": 6,
   "id": "bb951936",
   "metadata": {},
   "outputs": [],
   "source": [
    "stocks = dd.read_csv(\"dataset/historical_stocks_clean.csv\")"
   ]
  },
  {
   "cell_type": "code",
   "execution_count": 7,
   "id": "b60a0459",
   "metadata": {},
   "outputs": [],
   "source": [
    "# Merge the csv files.\n",
    "joined = dd.merge(stock_prices, stocks, how='inner', on=['ticker'])"
   ]
  },
  {
   "cell_type": "code",
   "execution_count": 8,
   "id": "a22e35be",
   "metadata": {},
   "outputs": [],
   "source": [
    "#joined.drop(['adj_close', 'exchange', 'name', 'industry'], axis=1)"
   ]
  },
  {
   "cell_type": "code",
   "execution_count": 9,
   "id": "eeb872c4",
   "metadata": {},
   "outputs": [
    {
     "data": {
      "text/plain": [
       "['/home/alex/git/big-data-first-project/dataset/merged_stocks.csv/00.part',\n",
       " '/home/alex/git/big-data-first-project/dataset/merged_stocks.csv/01.part',\n",
       " '/home/alex/git/big-data-first-project/dataset/merged_stocks.csv/02.part',\n",
       " '/home/alex/git/big-data-first-project/dataset/merged_stocks.csv/03.part',\n",
       " '/home/alex/git/big-data-first-project/dataset/merged_stocks.csv/04.part',\n",
       " '/home/alex/git/big-data-first-project/dataset/merged_stocks.csv/05.part',\n",
       " '/home/alex/git/big-data-first-project/dataset/merged_stocks.csv/06.part',\n",
       " '/home/alex/git/big-data-first-project/dataset/merged_stocks.csv/07.part',\n",
       " '/home/alex/git/big-data-first-project/dataset/merged_stocks.csv/08.part',\n",
       " '/home/alex/git/big-data-first-project/dataset/merged_stocks.csv/09.part',\n",
       " '/home/alex/git/big-data-first-project/dataset/merged_stocks.csv/10.part',\n",
       " '/home/alex/git/big-data-first-project/dataset/merged_stocks.csv/11.part',\n",
       " '/home/alex/git/big-data-first-project/dataset/merged_stocks.csv/12.part',\n",
       " '/home/alex/git/big-data-first-project/dataset/merged_stocks.csv/13.part',\n",
       " '/home/alex/git/big-data-first-project/dataset/merged_stocks.csv/14.part',\n",
       " '/home/alex/git/big-data-first-project/dataset/merged_stocks.csv/15.part',\n",
       " '/home/alex/git/big-data-first-project/dataset/merged_stocks.csv/16.part',\n",
       " '/home/alex/git/big-data-first-project/dataset/merged_stocks.csv/17.part',\n",
       " '/home/alex/git/big-data-first-project/dataset/merged_stocks.csv/18.part',\n",
       " '/home/alex/git/big-data-first-project/dataset/merged_stocks.csv/19.part',\n",
       " '/home/alex/git/big-data-first-project/dataset/merged_stocks.csv/20.part',\n",
       " '/home/alex/git/big-data-first-project/dataset/merged_stocks.csv/21.part',\n",
       " '/home/alex/git/big-data-first-project/dataset/merged_stocks.csv/22.part',\n",
       " '/home/alex/git/big-data-first-project/dataset/merged_stocks.csv/23.part',\n",
       " '/home/alex/git/big-data-first-project/dataset/merged_stocks.csv/24.part',\n",
       " '/home/alex/git/big-data-first-project/dataset/merged_stocks.csv/25.part',\n",
       " '/home/alex/git/big-data-first-project/dataset/merged_stocks.csv/26.part',\n",
       " '/home/alex/git/big-data-first-project/dataset/merged_stocks.csv/27.part',\n",
       " '/home/alex/git/big-data-first-project/dataset/merged_stocks.csv/28.part',\n",
       " '/home/alex/git/big-data-first-project/dataset/merged_stocks.csv/29.part',\n",
       " '/home/alex/git/big-data-first-project/dataset/merged_stocks.csv/30.part',\n",
       " '/home/alex/git/big-data-first-project/dataset/merged_stocks.csv/31.part']"
      ]
     },
     "execution_count": 9,
     "metadata": {},
     "output_type": "execute_result"
    }
   ],
   "source": [
    "# Write the output.\n",
    "joined.to_csv('dataset/merged_stocks.csv', index=False)"
   ]
  },
  {
   "cell_type": "code",
   "execution_count": null,
   "id": "156ec60c",
   "metadata": {},
   "outputs": [],
   "source": [
    "#df_joined = joined.compute()"
   ]
  },
  {
   "cell_type": "code",
   "execution_count": null,
   "id": "f1d7ffe9",
   "metadata": {},
   "outputs": [],
   "source": []
  }
 ],
 "metadata": {
  "kernelspec": {
   "display_name": "Python 3",
   "language": "python",
   "name": "python3"
  },
  "language_info": {
   "codemirror_mode": {
    "name": "ipython",
    "version": 3
   },
   "file_extension": ".py",
   "mimetype": "text/x-python",
   "name": "python",
   "nbconvert_exporter": "python",
   "pygments_lexer": "ipython3",
   "version": "3.7.10"
  }
 },
 "nbformat": 4,
 "nbformat_minor": 5
}
