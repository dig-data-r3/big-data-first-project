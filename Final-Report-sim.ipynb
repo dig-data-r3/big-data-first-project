{
 "cells": [
  {
   "cell_type": "markdown",
   "metadata": {},
   "source": [
    "# Relazione Finale - Gruppo Dig Data\n",
    "Componenti Gruppo - Alexandru Pavel, Simone Garzarella"
   ]
  },
  {
   "cell_type": "markdown",
   "metadata": {},
   "source": [
    "# Indice\n",
    "TODO: Mettere i numeri sezioni solo qui per chiarezza ulteriore (anche se non serve)\n",
    "- [Introduzione](#introduction)\n",
    "    *  [Descrizione Problema](#problem-description)\n",
    "    *  [Specifiche Software](#sw-specs)\n",
    "    *  [Specifiche Software](#hw-specs)\n",
    "- [Analisi Dataset](#data-analysis)\n",
    "    * [Historical Stock Prices](#hsp)\n",
    "    * [Historical Stocks](#hs)\n",
    "- [Job 1](#job1)\n",
    "    * [MapReduce](#mapreduce1)\n",
    "    * [Hive](#hive1)\n",
    "    * [Spark](#spark1)\n",
    "- [Job 2](#job2)\n",
    "    * [MapReduce](#mapreduce2)\n",
    "    * [Hive](#hive2)\n",
    "    * [Spark](#spark2)\n",
    "- [Job 3](#job3)\n",
    "    * [MapReduce](#mapreduce3)\n",
    "    * [Hive](#hive3)\n",
    "    * [Spark](#spark3)\n",
    "- [Grafici Finali](#plots)\n",
    "    * [Tipo1](#plot1)\n",
    "    * [Tipo2](#plot2)\n",
    "    * [Tipo3](#plot3)\n",
    "- [Conclusioni](#conclusions)"
   ]
  },
  {
   "cell_type": "markdown",
   "metadata": {},
   "source": [
    "# Introduzione <a name=\"introduction\"></a>\n",
    "Il dataset \"Daily Historical Stock Prices\" contiene l'andamento delle azioni sulla borsa di New York (NYSE e NASDAQ) dal 1970 al 2018. \n",
    "\n",
    "Due file CSV compongono il dataset:\n",
    "- historical_stock_prices.csv\n",
    "- historical_stocks.csv\n",
    "\n",
    "Il primo contiene i valori dei prezzi e volumi che variano nel tempo per ogni ticker. Il secondo i dati relativi ad ogni ticker, come il settore e l'exchange in cui è quotato.\n",
    "\n",
    "## Descrizione Problema <a name=\"problem-description\"></a>\n",
    "Dopo una fase iniziale di analisi e processamento di dati si vogliono eseguire 3 job (descritti nel dettaglio più avanti) con le diverse tecnologie affrontate nel corso (Hadoop, Hive e Apache Spark).\n",
    "\n",
    "## Specifiche Software <a name=\"sw-specs\"></a>\n",
    "Serve? Python, Hadoop, Hive, Spark con versioni\n",
    "\n",
    "## Specifiche Hardware <a name=\"hw-specs\"></a>\n",
    "I test sono stati eseguiti in locale e su cluster con macchine con queste caratteristiche.\n",
    "### Locale\n",
    "Ubuntu 20.04, CPU i5 2.5GHZ, 8GB Ram e 256GB SSD\n",
    "### Cluster\n",
    "Amazon Web Services EMR su Cluster con 1 Master Node e 5 Data Node. Tutte le istanze sono m5.xlarge con 16GB RAM, 4 vCPU e 50GB SSD."
   ]
  },
  {
   "cell_type": "markdown",
   "metadata": {},
   "source": [
    "# Analisi Dataset <a name=\"data-analysis\"></a>\n",
    "\n",
    "Di seguito vengono analizzati i due file del dataset per individuare eventuali preprocessamenti da effettuare. Inoltre viene anche descritto il processo per creare dataset più piccoli o grandi (con sampling) per effettuare i successivi test."
   ]
  },
  {
   "cell_type": "code",
   "execution_count": 4,
   "metadata": {},
   "outputs": [],
   "source": [
    "import pandas as pd"
   ]
  },
  {
   "cell_type": "markdown",
   "metadata": {},
   "source": [
    "## Historical Stock Prices <a name=\"hsp\"></a>\n",
    "\n",
    "I campi di questo dataset sono:\n",
    "\n",
    "- `ticker`: simbolo univoco dell’azione (https://en.wikipedia.org/wiki/Ticker_symbol)\n",
    "- `open`: prezzo di apertura\n",
    "- `close`: prezzo di chiusura\n",
    "- `adj_close`: prezzo di chiusura “modificato”\n",
    "- `lowThe`: prezzo minimo\n",
    "- `highThe`: prezzo massimo\n",
    "- `volume`: numero di transazioni\n",
    "- `date`: data nel formato aaaa-mm-gg"
   ]
  },
  {
   "cell_type": "code",
   "execution_count": 10,
   "metadata": {},
   "outputs": [],
   "source": [
    "stock_prices = pd.read_csv('dataset/historical_stock_prices.csv')"
   ]
  },
  {
   "cell_type": "code",
   "execution_count": 11,
   "metadata": {},
   "outputs": [
    {
     "data": {
      "text/html": [
       "<div>\n",
       "<style scoped>\n",
       "    .dataframe tbody tr th:only-of-type {\n",
       "        vertical-align: middle;\n",
       "    }\n",
       "\n",
       "    .dataframe tbody tr th {\n",
       "        vertical-align: top;\n",
       "    }\n",
       "\n",
       "    .dataframe thead th {\n",
       "        text-align: right;\n",
       "    }\n",
       "</style>\n",
       "<table border=\"1\" class=\"dataframe\">\n",
       "  <thead>\n",
       "    <tr style=\"text-align: right;\">\n",
       "      <th></th>\n",
       "      <th>ticker</th>\n",
       "      <th>open</th>\n",
       "      <th>close</th>\n",
       "      <th>adj_close</th>\n",
       "      <th>low</th>\n",
       "      <th>high</th>\n",
       "      <th>volume</th>\n",
       "      <th>date</th>\n",
       "    </tr>\n",
       "  </thead>\n",
       "  <tbody>\n",
       "    <tr>\n",
       "      <th>0</th>\n",
       "      <td>AHH</td>\n",
       "      <td>11.50</td>\n",
       "      <td>11.58</td>\n",
       "      <td>8.493155</td>\n",
       "      <td>11.25</td>\n",
       "      <td>11.68</td>\n",
       "      <td>4633900</td>\n",
       "      <td>2013-05-08</td>\n",
       "    </tr>\n",
       "    <tr>\n",
       "      <th>1</th>\n",
       "      <td>AHH</td>\n",
       "      <td>11.66</td>\n",
       "      <td>11.55</td>\n",
       "      <td>8.471151</td>\n",
       "      <td>11.50</td>\n",
       "      <td>11.66</td>\n",
       "      <td>275800</td>\n",
       "      <td>2013-05-09</td>\n",
       "    </tr>\n",
       "    <tr>\n",
       "      <th>2</th>\n",
       "      <td>AHH</td>\n",
       "      <td>11.55</td>\n",
       "      <td>11.60</td>\n",
       "      <td>8.507822</td>\n",
       "      <td>11.50</td>\n",
       "      <td>11.60</td>\n",
       "      <td>277100</td>\n",
       "      <td>2013-05-10</td>\n",
       "    </tr>\n",
       "    <tr>\n",
       "      <th>3</th>\n",
       "      <td>AHH</td>\n",
       "      <td>11.63</td>\n",
       "      <td>11.65</td>\n",
       "      <td>8.544494</td>\n",
       "      <td>11.55</td>\n",
       "      <td>11.65</td>\n",
       "      <td>147400</td>\n",
       "      <td>2013-05-13</td>\n",
       "    </tr>\n",
       "    <tr>\n",
       "      <th>4</th>\n",
       "      <td>AHH</td>\n",
       "      <td>11.60</td>\n",
       "      <td>11.53</td>\n",
       "      <td>8.456484</td>\n",
       "      <td>11.50</td>\n",
       "      <td>11.60</td>\n",
       "      <td>184100</td>\n",
       "      <td>2013-05-14</td>\n",
       "    </tr>\n",
       "    <tr>\n",
       "      <th>...</th>\n",
       "      <td>...</td>\n",
       "      <td>...</td>\n",
       "      <td>...</td>\n",
       "      <td>...</td>\n",
       "      <td>...</td>\n",
       "      <td>...</td>\n",
       "      <td>...</td>\n",
       "      <td>...</td>\n",
       "    </tr>\n",
       "    <tr>\n",
       "      <th>20973884</th>\n",
       "      <td>NZF</td>\n",
       "      <td>14.60</td>\n",
       "      <td>14.59</td>\n",
       "      <td>14.590000</td>\n",
       "      <td>14.58</td>\n",
       "      <td>14.62</td>\n",
       "      <td>137500</td>\n",
       "      <td>2018-08-20</td>\n",
       "    </tr>\n",
       "    <tr>\n",
       "      <th>20973885</th>\n",
       "      <td>NZF</td>\n",
       "      <td>14.60</td>\n",
       "      <td>14.58</td>\n",
       "      <td>14.580000</td>\n",
       "      <td>14.57</td>\n",
       "      <td>14.61</td>\n",
       "      <td>151200</td>\n",
       "      <td>2018-08-21</td>\n",
       "    </tr>\n",
       "    <tr>\n",
       "      <th>20973886</th>\n",
       "      <td>NZF</td>\n",
       "      <td>14.58</td>\n",
       "      <td>14.59</td>\n",
       "      <td>14.590000</td>\n",
       "      <td>14.57</td>\n",
       "      <td>14.63</td>\n",
       "      <td>185400</td>\n",
       "      <td>2018-08-22</td>\n",
       "    </tr>\n",
       "    <tr>\n",
       "      <th>20973887</th>\n",
       "      <td>NZF</td>\n",
       "      <td>14.60</td>\n",
       "      <td>14.57</td>\n",
       "      <td>14.570000</td>\n",
       "      <td>14.57</td>\n",
       "      <td>14.64</td>\n",
       "      <td>135600</td>\n",
       "      <td>2018-08-23</td>\n",
       "    </tr>\n",
       "    <tr>\n",
       "      <th>20973888</th>\n",
       "      <td>NZF</td>\n",
       "      <td>14.60</td>\n",
       "      <td>14.69</td>\n",
       "      <td>14.690000</td>\n",
       "      <td>14.59</td>\n",
       "      <td>14.69</td>\n",
       "      <td>180900</td>\n",
       "      <td>2018-08-24</td>\n",
       "    </tr>\n",
       "  </tbody>\n",
       "</table>\n",
       "<p>20973889 rows × 8 columns</p>\n",
       "</div>"
      ],
      "text/plain": [
       "         ticker   open  close  adj_close    low   high   volume        date\n",
       "0           AHH  11.50  11.58   8.493155  11.25  11.68  4633900  2013-05-08\n",
       "1           AHH  11.66  11.55   8.471151  11.50  11.66   275800  2013-05-09\n",
       "2           AHH  11.55  11.60   8.507822  11.50  11.60   277100  2013-05-10\n",
       "3           AHH  11.63  11.65   8.544494  11.55  11.65   147400  2013-05-13\n",
       "4           AHH  11.60  11.53   8.456484  11.50  11.60   184100  2013-05-14\n",
       "...         ...    ...    ...        ...    ...    ...      ...         ...\n",
       "20973884    NZF  14.60  14.59  14.590000  14.58  14.62   137500  2018-08-20\n",
       "20973885    NZF  14.60  14.58  14.580000  14.57  14.61   151200  2018-08-21\n",
       "20973886    NZF  14.58  14.59  14.590000  14.57  14.63   185400  2018-08-22\n",
       "20973887    NZF  14.60  14.57  14.570000  14.57  14.64   135600  2018-08-23\n",
       "20973888    NZF  14.60  14.69  14.690000  14.59  14.69   180900  2018-08-24\n",
       "\n",
       "[20973889 rows x 8 columns]"
      ]
     },
     "execution_count": 11,
     "metadata": {},
     "output_type": "execute_result"
    }
   ],
   "source": [
    "stock_prices"
   ]
  },
  {
   "cell_type": "markdown",
   "metadata": {},
   "source": [
    "Ci sono ~21milioni di record per questo file"
   ]
  },
  {
   "cell_type": "code",
   "execution_count": 12,
   "metadata": {},
   "outputs": [
    {
     "data": {
      "text/plain": [
       "ticker       0\n",
       "open         0\n",
       "close        0\n",
       "adj_close    0\n",
       "low          0\n",
       "high         0\n",
       "volume       0\n",
       "date         0\n",
       "dtype: int64"
      ]
     },
     "execution_count": 12,
     "metadata": {},
     "output_type": "execute_result"
    }
   ],
   "source": [
    "stock_prices.isna().sum()"
   ]
  },
  {
   "cell_type": "markdown",
   "metadata": {},
   "source": [
    "Non sono presenti valori nulli per nessuna delle colonne"
   ]
  },
  {
   "cell_type": "code",
   "execution_count": 13,
   "metadata": {},
   "outputs": [
    {
     "data": {
      "text/plain": [
       "ticker          5685\n",
       "open          807688\n",
       "close         835181\n",
       "adj_close    9235753\n",
       "low           815237\n",
       "high          821044\n",
       "volume        385849\n",
       "date           12274\n",
       "dtype: int64"
      ]
     },
     "execution_count": 13,
     "metadata": {},
     "output_type": "execute_result"
    }
   ],
   "source": [
    "stock_prices.nunique()"
   ]
  },
  {
   "cell_type": "markdown",
   "metadata": {},
   "source": [
    "In totale ci sono 5685 `ticker` univoci nel dataset"
   ]
  },
  {
   "cell_type": "code",
   "execution_count": 14,
   "metadata": {},
   "outputs": [
    {
     "data": {
      "text/plain": [
       "(0, 8)"
      ]
     },
     "execution_count": 14,
     "metadata": {},
     "output_type": "execute_result"
    }
   ],
   "source": [
    "stock_prices[stock_prices.duplicated(subset=['ticker','date'])].shape"
   ]
  },
  {
   "cell_type": "markdown",
   "metadata": {},
   "source": [
    "Non ci sono record distinti con valori duplicati di (ticker, data)"
   ]
  },
  {
   "cell_type": "markdown",
   "metadata": {},
   "source": [
    "### Creazione di dataset di varie dimensioni\n",
    "\n",
    "Sono stati generati dataset di dimensioni (approssimativamente) di 256/512/1024MB e ~4GB, oltre al dataset originale che ha dimensioni ~2GB.\n",
    "\n",
    "I file generati (con relativa dimensione precisa) hanno nome historical_stock_prices[size].csv\n",
    "\n",
    "- historical_stock_prices`256`.csv &ensp;&ensp;(239.75MB)\n",
    "- historical_stock_prices`512`.csv &ensp;&ensp;(479.51MB)\n",
    "- historical_stock_prices`1024`.csv &ensp;(959.03MB)\n",
    "- historical_stock_prices.csv &ensp;&ensp;&ensp;&ensp;&ensp;&ensp;&ensp;(1909.97MB)\n",
    "- historical_stock_prices`4096`.csv &ensp;(3835.92MB)\n",
    "\n",
    "La scelta dei record da includere è effettuata con un sampling randomico (con un seed preimpostato, per la ripetibiltà)"
   ]
  },
  {
   "cell_type": "markdown",
   "metadata": {},
   "source": [
    "```python\n",
    "def sample_all_sizes(historical_stock_prices_df):\n",
    "    for size in [0.125, 0.25, 0.5, 2]:\n",
    "        sample_n_rows = dataset_row_count * size\n",
    "        sampled_df = dataset.sample(sample_n_rows)\n",
    "        filename = 'dataset/historical_stock_prices[SIZE].csv')\n",
    "        sampled_df.to_csv(filename)\n",
    "\n",
    "```"
   ]
  },
  {
   "cell_type": "markdown",
   "metadata": {},
   "source": [
    "## Historical Stocks <a name=\"hs\"></a>\n",
    "\n",
    "Il dataset con le informazioni sui ticker è così strutturato:\n",
    "\n",
    "- `ticker`: simbolo dell’azione\n",
    "- `exchange`: NYSE o NASDAQ\n",
    "- `name`: nome dell’azienda\n",
    "- `sector`: settore dell’azienda\n",
    "- `industry`: industria di riferimento per l’azienda"
   ]
  },
  {
   "cell_type": "code",
   "execution_count": 15,
   "metadata": {},
   "outputs": [],
   "source": [
    "stocks = pd.read_csv(\"dataset/historical_stocks.csv\")"
   ]
  },
  {
   "cell_type": "code",
   "execution_count": 16,
   "metadata": {},
   "outputs": [
    {
     "data": {
      "text/html": [
       "<div>\n",
       "<style scoped>\n",
       "    .dataframe tbody tr th:only-of-type {\n",
       "        vertical-align: middle;\n",
       "    }\n",
       "\n",
       "    .dataframe tbody tr th {\n",
       "        vertical-align: top;\n",
       "    }\n",
       "\n",
       "    .dataframe thead th {\n",
       "        text-align: right;\n",
       "    }\n",
       "</style>\n",
       "<table border=\"1\" class=\"dataframe\">\n",
       "  <thead>\n",
       "    <tr style=\"text-align: right;\">\n",
       "      <th></th>\n",
       "      <th>ticker</th>\n",
       "      <th>exchange</th>\n",
       "      <th>name</th>\n",
       "      <th>sector</th>\n",
       "      <th>industry</th>\n",
       "    </tr>\n",
       "  </thead>\n",
       "  <tbody>\n",
       "    <tr>\n",
       "      <th>0</th>\n",
       "      <td>PIH</td>\n",
       "      <td>NASDAQ</td>\n",
       "      <td>1347 PROPERTY INSURANCE HOLDINGS, INC.</td>\n",
       "      <td>FINANCE</td>\n",
       "      <td>PROPERTY-CASUALTY INSURERS</td>\n",
       "    </tr>\n",
       "    <tr>\n",
       "      <th>1</th>\n",
       "      <td>PIHPP</td>\n",
       "      <td>NASDAQ</td>\n",
       "      <td>1347 PROPERTY INSURANCE HOLDINGS, INC.</td>\n",
       "      <td>FINANCE</td>\n",
       "      <td>PROPERTY-CASUALTY INSURERS</td>\n",
       "    </tr>\n",
       "    <tr>\n",
       "      <th>2</th>\n",
       "      <td>TURN</td>\n",
       "      <td>NASDAQ</td>\n",
       "      <td>180 DEGREE CAPITAL CORP.</td>\n",
       "      <td>FINANCE</td>\n",
       "      <td>FINANCE/INVESTORS SERVICES</td>\n",
       "    </tr>\n",
       "    <tr>\n",
       "      <th>3</th>\n",
       "      <td>FLWS</td>\n",
       "      <td>NASDAQ</td>\n",
       "      <td>1-800 FLOWERS.COM, INC.</td>\n",
       "      <td>CONSUMER SERVICES</td>\n",
       "      <td>OTHER SPECIALTY STORES</td>\n",
       "    </tr>\n",
       "    <tr>\n",
       "      <th>4</th>\n",
       "      <td>FCCY</td>\n",
       "      <td>NASDAQ</td>\n",
       "      <td>1ST CONSTITUTION BANCORP (NJ)</td>\n",
       "      <td>FINANCE</td>\n",
       "      <td>SAVINGS INSTITUTIONS</td>\n",
       "    </tr>\n",
       "    <tr>\n",
       "      <th>...</th>\n",
       "      <td>...</td>\n",
       "      <td>...</td>\n",
       "      <td>...</td>\n",
       "      <td>...</td>\n",
       "      <td>...</td>\n",
       "    </tr>\n",
       "    <tr>\n",
       "      <th>6455</th>\n",
       "      <td>ZOES</td>\n",
       "      <td>NYSE</td>\n",
       "      <td>ZOE&amp;#39;S KITCHEN, INC.</td>\n",
       "      <td>CONSUMER SERVICES</td>\n",
       "      <td>RESTAURANTS</td>\n",
       "    </tr>\n",
       "    <tr>\n",
       "      <th>6456</th>\n",
       "      <td>ZTS</td>\n",
       "      <td>NYSE</td>\n",
       "      <td>ZOETIS INC.</td>\n",
       "      <td>HEALTH CARE</td>\n",
       "      <td>MAJOR PHARMACEUTICALS</td>\n",
       "    </tr>\n",
       "    <tr>\n",
       "      <th>6457</th>\n",
       "      <td>ZTO</td>\n",
       "      <td>NYSE</td>\n",
       "      <td>ZTO EXPRESS (CAYMAN) INC.</td>\n",
       "      <td>TRANSPORTATION</td>\n",
       "      <td>TRUCKING FREIGHT/COURIER SERVICES</td>\n",
       "    </tr>\n",
       "    <tr>\n",
       "      <th>6458</th>\n",
       "      <td>ZUO</td>\n",
       "      <td>NYSE</td>\n",
       "      <td>ZUORA, INC.</td>\n",
       "      <td>TECHNOLOGY</td>\n",
       "      <td>COMPUTER SOFTWARE: PREPACKAGED SOFTWARE</td>\n",
       "    </tr>\n",
       "    <tr>\n",
       "      <th>6459</th>\n",
       "      <td>ZYME</td>\n",
       "      <td>NYSE</td>\n",
       "      <td>ZYMEWORKS INC.</td>\n",
       "      <td>HEALTH CARE</td>\n",
       "      <td>MAJOR PHARMACEUTICALS</td>\n",
       "    </tr>\n",
       "  </tbody>\n",
       "</table>\n",
       "<p>6460 rows × 5 columns</p>\n",
       "</div>"
      ],
      "text/plain": [
       "     ticker exchange                                    name  \\\n",
       "0       PIH   NASDAQ  1347 PROPERTY INSURANCE HOLDINGS, INC.   \n",
       "1     PIHPP   NASDAQ  1347 PROPERTY INSURANCE HOLDINGS, INC.   \n",
       "2      TURN   NASDAQ                180 DEGREE CAPITAL CORP.   \n",
       "3      FLWS   NASDAQ                 1-800 FLOWERS.COM, INC.   \n",
       "4      FCCY   NASDAQ           1ST CONSTITUTION BANCORP (NJ)   \n",
       "...     ...      ...                                     ...   \n",
       "6455   ZOES     NYSE                 ZOE&#39;S KITCHEN, INC.   \n",
       "6456    ZTS     NYSE                             ZOETIS INC.   \n",
       "6457    ZTO     NYSE               ZTO EXPRESS (CAYMAN) INC.   \n",
       "6458    ZUO     NYSE                             ZUORA, INC.   \n",
       "6459   ZYME     NYSE                          ZYMEWORKS INC.   \n",
       "\n",
       "                 sector                                 industry  \n",
       "0               FINANCE               PROPERTY-CASUALTY INSURERS  \n",
       "1               FINANCE               PROPERTY-CASUALTY INSURERS  \n",
       "2               FINANCE               FINANCE/INVESTORS SERVICES  \n",
       "3     CONSUMER SERVICES                   OTHER SPECIALTY STORES  \n",
       "4               FINANCE                     SAVINGS INSTITUTIONS  \n",
       "...                 ...                                      ...  \n",
       "6455  CONSUMER SERVICES                              RESTAURANTS  \n",
       "6456        HEALTH CARE                    MAJOR PHARMACEUTICALS  \n",
       "6457     TRANSPORTATION        TRUCKING FREIGHT/COURIER SERVICES  \n",
       "6458         TECHNOLOGY  COMPUTER SOFTWARE: PREPACKAGED SOFTWARE  \n",
       "6459        HEALTH CARE                    MAJOR PHARMACEUTICALS  \n",
       "\n",
       "[6460 rows x 5 columns]"
      ]
     },
     "execution_count": 16,
     "metadata": {},
     "output_type": "execute_result"
    }
   ],
   "source": [
    "stocks"
   ]
  },
  {
   "cell_type": "code",
   "execution_count": 18,
   "metadata": {},
   "outputs": [
    {
     "data": {
      "text/plain": [
       "ticker      6460\n",
       "exchange       2\n",
       "name        5462\n",
       "sector        13\n",
       "industry     136\n",
       "dtype: int64"
      ]
     },
     "execution_count": 18,
     "metadata": {},
     "output_type": "execute_result"
    }
   ],
   "source": [
    "stocks.nunique()"
   ]
  },
  {
   "cell_type": "markdown",
   "metadata": {},
   "source": [
    "Sono presenti 6460 `ticker` univoci, come il numero di righe del dataset. Il ticker può essere considerato una chiave di questo dataset, il nome dell'azienda `name` invece no, ha delle ripetizioni."
   ]
  },
  {
   "cell_type": "code",
   "execution_count": 17,
   "metadata": {},
   "outputs": [
    {
     "data": {
      "text/plain": [
       "(998, 5)"
      ]
     },
     "execution_count": 17,
     "metadata": {},
     "output_type": "execute_result"
    }
   ],
   "source": [
    "stocks[stocks.duplicated(subset=['name'])].shape"
   ]
  },
  {
   "cell_type": "markdown",
   "metadata": {},
   "source": [
    "In particolare sono presenti 998 nomi di azienda duplicati. Nel resto del progetto non si considererà questo campo per identificare record (in particolare per il job3)."
   ]
  },
  {
   "cell_type": "code",
   "execution_count": 20,
   "metadata": {},
   "outputs": [
    {
     "data": {
      "text/plain": [
       "array(['FINANCE', 'CONSUMER SERVICES', 'TECHNOLOGY', 'PUBLIC UTILITIES',\n",
       "       'CAPITAL GOODS', 'BASIC INDUSTRIES', 'HEALTH CARE',\n",
       "       'CONSUMER DURABLES', nan, 'ENERGY', 'MISCELLANEOUS', 'SECTOR',\n",
       "       'TRANSPORTATION', 'CONSUMER NON-DURABLES'], dtype=object)"
      ]
     },
     "execution_count": 20,
     "metadata": {},
     "output_type": "execute_result"
    }
   ],
   "source": [
    "stocks['sector'].unique()"
   ]
  },
  {
   "cell_type": "markdown",
   "metadata": {},
   "source": [
    "Visualizzando i possibili valori di `sector` si può notare la presenza di un valore nullo."
   ]
  },
  {
   "cell_type": "code",
   "execution_count": 19,
   "metadata": {},
   "outputs": [
    {
     "data": {
      "text/plain": [
       "ticker         0\n",
       "exchange       0\n",
       "name           0\n",
       "sector      1440\n",
       "industry    1440\n",
       "dtype: int64"
      ]
     },
     "execution_count": 19,
     "metadata": {},
     "output_type": "execute_result"
    }
   ],
   "source": [
    "stocks.isna().sum()"
   ]
  },
  {
   "cell_type": "markdown",
   "metadata": {},
   "source": [
    "Il campo `sector` presenta 1440 valori nulli, che vengono eliminati durante il preprocessing di questo dataset."
   ]
  },
  {
   "cell_type": "code",
   "execution_count": 21,
   "metadata": {},
   "outputs": [],
   "source": [
    "stocks_clean = stocks.loc[(stocks['sector'].notna())]"
   ]
  },
  {
   "cell_type": "code",
   "execution_count": 23,
   "metadata": {},
   "outputs": [
    {
     "data": {
      "text/plain": [
       "(5020, 5)"
      ]
     },
     "execution_count": 23,
     "metadata": {},
     "output_type": "execute_result"
    }
   ],
   "source": [
    "stocks_clean.shape"
   ]
  },
  {
   "cell_type": "markdown",
   "metadata": {},
   "source": [
    "Il dataset pulito dai valori nulli del campo `sector` ha 5020 record. Verrà salvato come `historical_stocks_clean.csv`"
   ]
  },
  {
   "cell_type": "markdown",
   "metadata": {},
   "source": [
    "```python\n",
    "stocks_clean.to_csv('dataset/historical_stocks_clean.csv')\n",
    "```"
   ]
  },
  {
   "cell_type": "code",
   "execution_count": null,
   "metadata": {},
   "outputs": [],
   "source": []
  },
  {
   "cell_type": "markdown",
   "metadata": {},
   "source": [
    "# Job 1 <a name=\"job1\"></a>\n",
    "\n",
    "Un job che sia in grado di generare un report contenente, per ciascuna azione: \n",
    "* (a) la data della prima quotazione,\n",
    "* (b) la data dell’ultima quotazione, \n",
    "* (c) la variazione percentuale della quotazione (differenza percentuale tra il primo e l’ultimo prezzo di chiusura presente nell’archivio),\n",
    "* (d) il prezzo massimo e quello minimo,\n",
    "* (e) (facoltativo) il massimo numero di giorni consecutivi in cui l’azione è cresciuta(chiusura maggiore dell’apertura)con indicazione dell’anno in cui questo è avvenuto.\n",
    "\n",
    "Il report deve essere ordinato per valori decrescenti del punto b. \n",
    "\n",
    "## MapReduce <a name=\"mapreduce1\"></a>\n",
    "This is a sub paragraph, formatted in heading 3 style\n",
    "\n",
    "## Hive <a name=\"hive1\"></a>\n",
    "\n",
    "Per eseguire questo job sono state create prima due tabelle esterne:\n",
    "\n",
    "* Una che, per ogni ticker, etrae il prezzo di chiusura alla prima data disponibile per quel ticker nel database:\n",
    "\n",
    "\n",
    "`create table ticker_to_minDate as\n",
    " select d.ticker as min_ticker, d.close_price as min_close_price\n",
    " from historical_stock_prices(size) d\n",
    " join (select ticker as min_ticker, min(price_date) as min_price_date\n",
    " from historical_stock_prices(size) group by ticker) min_table\n",
    " on (d.ticker = min_table.min_ticker and d.price_date <= min_table.min_price_date);`\n",
    " \n",
    "* L'altra che, per ogni ticker, etrae il prezzo di chiusura allultima data disponibile per quel ticker nel database:\n",
    "\n",
    "`create table ticker_to_maxDate as\n",
    " select d.ticker as max_ticker, d.close_price as max_close_price\n",
    " from historical_stock_prices(size) d\n",
    " join (select ticker as max_ticker, max(price_date) as max_price_date\n",
    " from historical_stock_prices(size) group by ticker) as max_table\n",
    " on (d.ticker = max_table.max_ticker and d.price_date >= max_table.max_price_date);`\n",
    "\n",
    "\n",
    "* Successivamente esse sono state utilizzate per la query finale, in cui si estrae, per ogni ticker, la data della prima quotazione, la data dell’ultima quotazione, la variazione percentuale della quotazione, il prezzo massimo e quello minimo.\n",
    "\n",
    "`CREATE TABLE job1_hive ROW FORMAT DELIMITED\n",
    " FIELDS TERMINATED BY '\\t'\n",
    " LINES TERMINATED BY '\\n' as\n",
    " select ticker, min(price_date) as first_price_date, max(price_date) as last_price_date,\n",
    " max(((max_table.max_close_price - min_table.min_close_price) / min_table.min_close_price) * 100) as variation,\n",
    " max(high) as max_price, min(low) as min_price\n",
    " from historical_stock_prices(size) d\n",
    " join ticker_to_maxDate max_table on d.ticker = max_table.max_ticker\n",
    " join ticker_to_minDate min_table on d.ticker = min_table.min_ticker\n",
    " group by ticker\n",
    " order by ticker, last_price_date desc;`\n",
    "\n",
    "\n",
    "## Spark <a name=\"spark1\"></a>\n",
    "This is a sub paragraph, formatted in heading 3 style"
   ]
  },
  {
   "cell_type": "markdown",
   "metadata": {},
   "source": [
    "# Job 2 <a name=\"job2\"></a>\n",
    "\n",
    "Un  job  che  sia in  grado  di  generare un report contenente, per  ciascun settore  e  per  ciascun anno del  periodo  2009-2018: \n",
    "\n",
    "* (a) la  variazione percentuale della quotazione del settore nell’anno, \n",
    "* (b) l’azione del settore che ha avuto il maggior incremento percentuale nell’anno (con indicazione dell’incremento),\n",
    "* (c) l’azione del settore che ha avuto il maggior  volume  di  transazioni nell’anno(con  indicazione  del  volume).\n",
    "\n",
    "Il  report  deve  essere  ordinato  per  nome  del settore. \n",
    "\n",
    "\n",
    "## MapReduce <a name=\"mapreduce2\"></a>\n",
    "This is a sub paragraph, formatted in heading 3 style\n",
    "\n",
    "## Hive <a name=\"hive2\"></a>\n",
    "\n",
    "Per questo job sono state create diverse tabelle esterne, per chiarezza divise a seconda del task per cui esse hanno un'utilità:\n",
    "\n",
    "UTILI PER IL TASK A\n",
    "\n",
    "* Per ogni settore estrare l'anno dalle date dei prezzi\n",
    "\n",
    "\n",
    "`create table sector_2_date as\n",
    "select distinct d2.sector, extract(year from d1.price_date)\n",
    "from historical_stock_prices(size) as d1 left join historical_stocks_clean as d2 on d1.ticker = d2.ticker\n",
    "order by d2.sector, `_c1`;\n",
    "alter table sector_2_date change `_c1` year int;`\n",
    "\n",
    "* Per ogni settore, anno e ticker estrae la data della prima e dell'ultima quotazione dell'anno.\n",
    "\n",
    "\n",
    "`create table sector_ticker_min_max as\n",
    "select d2.sector, sd.year, d1.ticker, min(d1.price_date) as first_date, max(d1.price_date) as last_date\n",
    "from historical_stock_prices(size) as d1\n",
    "left join historical_stocks_clean as d2 on d1.ticker = d2.ticker\n",
    "left join sector_2_date as sd on d2.sector = sd.sector and sd.year = extract(year from d1.price_date)\n",
    "where sd.year >=2009 and sd.year <= 2018\n",
    "group by d2.sector, sd.year, d1.ticker\n",
    "order by sector, year, d1.ticker;`\n",
    "\n",
    "* Per ogni settore e anno calcola la somma di tutte e quotazioni nella prima data dell'anno per quel settore.\n",
    "\n",
    "`create table sector_to_min_quot as\n",
    "select d2.sector, sm.year, sum(d1.close_price) as first_quot\n",
    "from historical_stock_prices(size) as d1\n",
    "left join historical_stocks_clean as d2 on d1.ticker = d2.ticker\n",
    "join sector_ticker_min_max as sm on d2.sector = sm.sector and sm.year = extract(year from d1.price_date) and d1.ticker = sm.ticker\n",
    "where d1.price_date = sm.first_date\n",
    "group by d2.sector, sm.year\n",
    "order by d2.sector, sm.year;`\n",
    "\n",
    "\n",
    "* Per ogni settore e anno calcola la somma di tutte e quotazioni nell'ultima data dell'anno per quel settore.\n",
    "\n",
    "`create table sector_to_max_quot as\n",
    "select d2.sector, sm.year, sum(d1.close_price) as last_quot\n",
    "from historical_stock_prices(size) as d1\n",
    "left join historical_stocks_clean as d2 on d1.ticker = d2.ticker\n",
    "join sector_ticker_min_max as sm on d2.sector = sm.sector and sm.year = extract(year from d1.price_date) and d1.ticker = sm.ticker\n",
    "where d1.price_date = sm.last_date and  d2.sector != \"N/A\"\n",
    "group by d2.sector, sm.year\n",
    "order by d2.sector, sm.year;`\n",
    "\n",
    "UTILI PER IL TASK B\n",
    "\n",
    "* Per ogni settore e anno estrae il ticker con la sua prima quotazione per quel settore e in quell'anno.\n",
    "\n",
    "\n",
    "`create table sector_year_to_tickerFirstQuotation as\n",
    "select d2.sector, sm.year, d1.ticker, close_price as first_quotation\n",
    "from historical_stock_prices(size) as d1\n",
    "left join historical_stocks_clean as d2 on d1.ticker = d2.ticker\n",
    "left join sector_ticker_min_max as sm on d2.sector = sm.sector and d1.ticker = sm.ticker\n",
    "where d1.price_date = sm.first_date\n",
    "order by d2.sector, sm.year;`\n",
    "\n",
    "\n",
    "* Per ogni settore e anno estrae il ticker con la sua ultima quotazione per quel settore e in quell'anno.\n",
    "\n",
    "`create table sector_year_to_tickerLastQuotation as\n",
    "select d2.sector, sm.year, d1.ticker, close_price as last_quotation\n",
    "from historical_stock_prices(size) as d1\n",
    "left join historical_stocks_clean as d2 on d1.ticker = d2.ticker\n",
    "left join sector_ticker_min_max as sm on d2.sector = sm.sector and d1.ticker = sm.ticker\n",
    "where d1.price_date = sm.last_date\n",
    "order by d2.sector, sm.year;`\n",
    "\n",
    "* Per ogni settore e anno estrae il ticker con la sua prima e ultima quotazione per quel settore e in quell'anno (Join delle due tabelle precedenti).\n",
    "\n",
    "`create table sector_year_to_tickerFirstLastQuotation as\n",
    "select s1.sector, s1.year, s1.ticker, s1.first_quotation, s2.last_quotation\n",
    "from sector_year_to_tickerFirstQuotation as s1\n",
    "left join sector_year_to_tickerLastQuotation as s2\n",
    "on (s1.sector = s2.sector and s1.year = s2.year and s1.ticker = s2.ticker)\n",
    "order by s1.sector, s1.year;`\n",
    "\n",
    "\n",
    "* Per ogni settore, anno e ticker calcola la variazione percentuale del ticker in quell'anno per quel settore.\n",
    "\n",
    "`create table sector_year_to_variation as\n",
    "select sector, year, ticker, max(((last_quotation - first_quotation)/first_quotation)*100) as variation\n",
    "from sector_year_to_tickerFirstLastQuotation\n",
    "group by sector, year, ticker;`\n",
    "\n",
    "\n",
    "* Per ogni settore e anno calcola la variazione massima avuta in quell'anno e per quel settore.\n",
    "\n",
    "`create table sector_year_to_maxVariation as\n",
    "select sector, year, max(variation) as max_variation\n",
    "from sector_year_to_variation\n",
    "group by sector, year;`\n",
    "\n",
    "\n",
    "* Per ogni settore e anno estrae il ticker che ha avuto la variazione percentuale massima in quell'anno e per quel settore, con l'indicazione di tale variazione.\n",
    "\n",
    "`create table sector_year_to_maxTicker as\n",
    "select smax.sector, smax.year, sv.ticker, smax.max_variation\n",
    "from sector_year_to_maxVariation as smax\n",
    "left join sector_year_to_variation as sv on smax.sector = sv.sector and smax.year = sv.year\n",
    "where max_variation = variation;`\n",
    "\n",
    "\n",
    "UTILI PER IL TASK C\n",
    "\n",
    "* Per ogni settore, anno e ticker calcola la somma dei volumi dei ticker in quell'anno e per quel settore.\n",
    "\n",
    "`create table sector_year_ticker_to_volumeSum as\n",
    "select d2.sector, year(d1.price_date) as price_year, d1.ticker, sum(d1.volume) as volume\n",
    "from historical_stock_prices(size) as d1\n",
    "join historical_stocks_clean as d2 on d1.ticker = d2.ticker\n",
    "group by d2.sector, year(d1.price_date), d1.ticker;`\n",
    "\n",
    "* Per ogni settore e anno estrae la somma di volumi massima in quell'anno e per quel settore.\n",
    "\n",
    "`create table sector_year_to_maxVolume as\n",
    "select sector, price_year, max(volume) as maxVolume\n",
    "from sector_year_ticker_to_volumeSum\n",
    "group by sector, price_year\n",
    "order by sector, price_year;`\n",
    "\n",
    "* Per ogni settore e anno estrae il ticker che ha la somma di volumi massima in quell'anno e per quel settore, con indicazione di tale somma.\n",
    "\n",
    "`create table sector_year_toMaxVolumeTicker as\n",
    "select ayt.sector, ayt.price_year, ayt.ticker as v_ticker, ayt.volume\n",
    "from sector_year_ticker_to_volumeSum as ayt\n",
    "left join sector_year_to_maxVolume as aym on ayt.sector = aym.sector and ayt.price_year = aym.price_year\n",
    "where volume = maxVolume;`\n",
    "\n",
    "QUERY FINALE\n",
    "\n",
    "* Mette insieme tutte le precedenti tabelle per estrarre, per ogni settore e anno, la  variazione percentuale della quotazione del settore nell’anno, l’azione del settore che ha avuto il maggior incremento percentuale nell’anno (con indicazione dell’incremento), l’azione del settore che ha avuto il maggior  volume  di  transazioni nell’anno(con  indicazione  del  volume).\n",
    "\n",
    "`create table job2_hive as\n",
    "select d2.sector, smin.year, min(((smax.last_quot - smin.first_quot)/smin.first_quot)*100) as variation, max(sy.ticker), max(sy.max_variation), min(v_ticker), max(syv.volume)\n",
    "from historical_stock_prices(size) as d1\n",
    "left join historical_stocks_clean as d2 on d1.ticker = d2.ticker\n",
    "left join sector_to_min_quot as smin on d2.sector = smin.sector and smin.year = extract(year from d1.price_date)\n",
    "left join sector_to_max_quot as smax on d2.sector = smax.sector and smax.year = extract(year from d1.price_date)\n",
    "left join sector_year_to_maxTicker sy on d2.sector = sy.sector and sy.year = extract(year from d1.price_date)\n",
    "left join sector_year_toMaxVolumeTicker as syv on d2.sector = syv.sector and syv.price_year = extract(year from d1.price_date)\n",
    "where smin.year >=2009 and smin.year <= 2018 and smax.year >=2009 and smax.year <= 2018 and d2.sector != \"N/A\"\n",
    "group by d2.sector, smin.year\n",
    "order by d2.sector, smin.year;`\n",
    "\n",
    "\n",
    "\n",
    "## Spark <a name=\"spark2\"></a>\n",
    "This is a sub paragraph, formatted in heading 3 style"
   ]
  },
  {
   "cell_type": "markdown",
   "metadata": {},
   "source": [
    "# Job 3 <a name=\"job3\"></a>\n",
    "\n",
    "Un job in grado di generare le coppie di aziende che si somigliano (sulla base di una soglia scelta a piacere) in termini di variazione percentuale mensile nell’anno 2017 mostrando l’andamento mensile delle due aziende.\n",
    "\n",
    "(Es.Soglia=1%, coppie: 1:{Apple, Intel}:GEN: Apple +2%, Intel +2,5%, FEB: Apple +3%, Intel +2,7%, MAR: Apple +0,5%, Intel +1,2%, ...; 2:{Amazon, IBM}: GEN: Amazon +1%, IBM +0,5%, FEB: Amazon +0,7%, IBM +0,5%,MAR: Amazon +1,4%, IBM +0,7%,..)\n",
    "\n",
    "## MapReduce <a name=\"mapreduce3\"></a>\n",
    "This is a sub paragraph, formatted in heading 3 style\n",
    "\n",
    "## Hive <a name=\"hive3\"></a>\n",
    "\n",
    "Per l'ultimo job vengono create diverse tabelle esterne che saranno poi utilizzate per costruire la tabella finale:\n",
    "\n",
    "* Filtra il database per mostrare solo i dati del 2017\n",
    "\n",
    "`create table 2017_data as\n",
    "select ticker, price_date, extract(month from price_date), close_price\n",
    "from historical_stock_prices(size)\n",
    "where extract(year from price_date) = 2017\n",
    "order by ticker, price_date;\n",
    "alter table 2017_data change `_c2` month int;`\n",
    "\n",
    "* Per ogni ticker e mese estrae il primo e l'ultimo prezzo di chiusura del ticker in quel mese\n",
    "\n",
    "`create table ticker_month_to_max_min_date as\n",
    "select ticker, month, min(price_date) as min_date, max(price_date) as max_date\n",
    "from 2017_data\n",
    "group by ticker, month;`\n",
    "\n",
    "* Per ogni ticker e mese estrae la prima quotazione di quel ticker in quel mese\n",
    "\n",
    "`create table ticker_to_first_month_quotation as\n",
    "select d.ticker, d.month, d.close_price\n",
    "from 2017_data as d\n",
    "left join ticker_month_to_max_min_date as tm on d.ticker = tm.ticker\n",
    "where price_date = min_date;`\n",
    "\n",
    "\n",
    "* Per ogni ticker e mese estrae l'ultima quotazione di quel ticker in quel mese\n",
    "\n",
    "`create table ticker_to_last_month_quotation as\n",
    "select d.ticker, d.month, d.close_price\n",
    "from 2017_data as d\n",
    "left join ticker_month_to_max_min_date as tm on d.ticker = tm.ticker\n",
    "where price_date = max_date;`\n",
    "\n",
    "* Per ogni ticker e mese estrae la prima e l'ultima quotazione del ticker in quel mese (join tra le due tabelle precedenti)\n",
    "\n",
    "`create table ticker_to_first_last_month_quotation as\n",
    "select first.ticker, first.month, first.close_price as first_quotation, last.close_price as last_quotation\n",
    "from ticker_to_first_month_quotation as first\n",
    "left join ticker_to_last_month_quotation as last\n",
    "on first.ticker = last.ticker and first.month = last.month\n",
    "order by ticker, month;`\n",
    "\n",
    "* Per ogni ticker e mese calcola la variazione percentuale di quel ticker in quel mese\n",
    "\n",
    "`create table ticker_month_to_variation as\n",
    "select ticker, month, (((last_quotation - first_quotation)/first_quotation)*100) as variation\n",
    "from ticker_to_first_last_month_quotation\n",
    "order by ticker, month;`\n",
    "\n",
    "* Per ogni coppia di ticker e per ogni mese estrae la variaizone percentuale del primo e del secondo ticker per quel mese \n",
    "\n",
    "`create table variations_comparison as\n",
    "select t1.ticker as ticker_1, t2.ticker as ticker_2, t1.month, cast(t1.variation as decimal(10,2)) as variation_1, cast(t2.variation as decimal(10,2)) as variation_2\n",
    "from ticker_month_to_variation as t1, ticker_month_to_variation as t2\n",
    "where t1.ticker > t2.ticker and t1.month = t2.month and (abs(t1.variation - t2.variation) <= 1)\n",
    "order by ticker_1, ticker_2, t1.month;`\n",
    "\n",
    "* Crea la tabella dei risultati raggruppando per coppie di ticker e trasformando i valori della colonna \"month\" in nuove colonne, ognuna per ogni mese, popolate dai rispettivi valori per quel mese.\n",
    "\n",
    "`create table raw_results as\n",
    "select ticker_1 as t1, ticker_2 as t2,\n",
    "max(case when month=\"1\" then \"GEN:\"||\" \"||\"(\"||variation_1||\"%\"||\", \"||variation_2||\"%\"||\")\" else \"\" end) as gen,\n",
    "max(case when month=\"2\" then \"FEB:\"||\" \"||\"(\"||variation_1||\"%\"||\", \"||variation_2||\"%\"||\")\" else \"\" end) as feb,\n",
    "max(case when month=\"3\" then \"MAR:\"||\" \"||\"(\"||variation_1||\"%\"||\", \"||variation_2||\"%\"||\")\" else \"\" end) as mar,\n",
    "max(case when month=\"4\" then \"APR:\"||\" \"||\"(\"||variation_1||\"%\"||\", \"||variation_2||\"%\"||\")\" else \"\" end) as apr,\n",
    "max(case when month=\"5\" then \"MAG:\"||\" \"||\"(\"||variation_1||\"%\"||\", \"||variation_2||\"%\"||\")\" else \"\" end) as mag,\n",
    "max(case when month=\"6\" then \"GIU:\"||\" \"||\"(\"||variation_1||\"%\"||\", \"||variation_2||\"%\"||\")\" else \"\" end) as giu,\n",
    "max(case when month=\"7\" then \"LUG:\"||\" \"||\"(\"||variation_1||\"%\"||\", \"||variation_2||\"%\"||\")\" else \"\" end) as lug,\n",
    "max(case when month=\"8\" then \"AGO:\"||\" \"||\"(\"||variation_1||\"%\"||\", \"||variation_2||\"%\"||\")\" else \"\" end) as ago,\n",
    "max(case when month=\"9\" then \"SET:\"||\" \"||\"(\"||variation_1||\"%\"||\", \"||variation_2||\"%\"||\")\" else \"\" end) as sep,\n",
    "max(case when month=\"10\" then \"OTT:\"||\" \"||\"(\"||variation_1||\"%\"||\", \"||variation_2||\"%\"||\")\" else \"\" end) as ott,\n",
    "max(case when month=\"11\" then \"NOV:\"||\" \"||\"(\"||variation_1||\"%\"||\", \"||variation_2||\"%\"||\")\" else \"\" end) as nov,\n",
    "max(case when month=\"12\" then \"DIC:\"||\" \"||\"(\"||variation_1||\"%\"||\", \"||variation_2||\"%\"||\")\" else \"\" end) as dic\n",
    "from variations_comparison\n",
    "group by ticker_1, ticker_2;`\n",
    "\n",
    "* Nel mostrare i risutati si filtra la tabella finale affinché mostri soltanto le coppie di ticker che si somigliano in tutti i mesi.\n",
    "\n",
    "`create table job3_hive as\n",
    "select * from raw_results\n",
    "where (gen!=\"\" and feb!=\"\" and mar!=\"\" and apr!=\"\" and mag!=\"\" and giu!=\"\" and lug!=\"\" and ago!=\"\"\n",
    "and sep!=\"\" and ott!=\"\" and nov!=\"\" and dic!=\"\");`\n",
    "\n",
    "\n",
    "## Spark <a name=\"spark3\"></a>\n",
    "This is a sub paragraph, formatted in heading 3 style"
   ]
  },
  {
   "cell_type": "markdown",
   "metadata": {},
   "source": [
    "# Grafici <a name=\"plots\"></a>\n",
    "The first paragraph text\n",
    "\n",
    "## MapReduce <a name=\"plot1\"></a>\n",
    "This is a sub paragraph, formatted in heading 3 style\n",
    "\n",
    "## Hive <a name=\"plot2\"></a>\n",
    "This is a sub paragraph, formatted in heading 3 style\n",
    "\n",
    "## Spark <a name=\"plot3\"></a>\n",
    "This is a sub paragraph, formatted in heading 3 style"
   ]
  },
  {
   "cell_type": "markdown",
   "metadata": {},
   "source": [
    "# Conclusioni <a name=\"conclusions\"></a>\n",
    "The first paragraph text\n"
   ]
  },
  {
   "cell_type": "code",
   "execution_count": null,
   "metadata": {},
   "outputs": [],
   "source": []
  }
 ],
 "metadata": {
  "kernelspec": {
   "display_name": "Python 3",
   "language": "python",
   "name": "python3"
  },
  "language_info": {
   "codemirror_mode": {
    "name": "ipython",
    "version": 3
   },
   "file_extension": ".py",
   "mimetype": "text/x-python",
   "name": "python",
   "nbconvert_exporter": "python",
   "pygments_lexer": "ipython3",
   "version": "3.9.4"
  }
 },
 "nbformat": 4,
 "nbformat_minor": 4
}
