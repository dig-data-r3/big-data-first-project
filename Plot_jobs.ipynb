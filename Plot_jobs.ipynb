{
 "cells": [
  {
   "cell_type": "code",
   "execution_count": 1,
   "id": "f000ff0d",
   "metadata": {},
   "outputs": [],
   "source": [
    "import pandas as pd"
   ]
  },
  {
   "cell_type": "code",
   "execution_count": 2,
   "id": "f23af37c",
   "metadata": {},
   "outputs": [],
   "source": [
    "import seaborn as sns\n",
    "%matplotlib inline\n",
    "import matplotlib.pyplot as plt"
   ]
  },
  {
   "cell_type": "code",
   "execution_count": 3,
   "id": "ad25a3a8",
   "metadata": {},
   "outputs": [],
   "source": [
    "sns.set()"
   ]
  },
  {
   "cell_type": "code",
   "execution_count": 4,
   "id": "4d574dd7",
   "metadata": {},
   "outputs": [],
   "source": [
    "mapreduce_local = pd.read_csv('./benchmarks/mapreduce_local.csv', index_col=0)\n",
    "mapreduce_cluster = pd.read_csv('./benchmarks/mapreduce_cluster.csv', index_col=0)\n",
    "hive_local = pd.read_csv('./benchmarks/hive_local.csv', index_col=0)\n",
    "hive_cluster = pd.read_csv('./benchmarks/hive_cluster.csv', index_col=0)\n",
    "spark_local = pd.read_csv('./benchmarks/spark_local.csv', index_col=0)\n",
    "spark_cluster = pd.read_csv('./benchmarks/spark_cluster.csv', index_col=0)"
   ]
  },
  {
   "cell_type": "code",
   "execution_count": 5,
   "id": "df10befe",
   "metadata": {},
   "outputs": [],
   "source": [
    "mapreduce_local.name = 'MapReduce'\n",
    "mapreduce_cluster.name = 'MapReduce'\n",
    "hive_local.name = 'Hive'\n",
    "hive_cluster.name = 'Hive'\n",
    "spark_local.name = 'Spark'\n",
    "spark_cluster.name = 'Spark'"
   ]
  },
  {
   "cell_type": "code",
   "execution_count": 6,
   "id": "4cb94bab",
   "metadata": {},
   "outputs": [],
   "source": [
    "local_datasets = [mapreduce_local, hive_local, spark_local]\n",
    "cluster_datasets = [mapreduce_cluster, hive_cluster, spark_cluster]"
   ]
  },
  {
   "cell_type": "code",
   "execution_count": 7,
   "id": "5a127d2b",
   "metadata": {},
   "outputs": [],
   "source": [
    "def extract_job_n_data(dataset, job_n, str_tech):\n",
    "    sequential = pd.melt(dataset.iloc[[job_n-1]])\n",
    "    sequential = sequential.apply(pd.to_numeric)\n",
    "    sequential['tech'] = str_tech\n",
    "    return sequential"
   ]
  },
  {
   "cell_type": "code",
   "execution_count": 8,
   "id": "50f00a87",
   "metadata": {},
   "outputs": [],
   "source": [
    "def concatenate_single_job_data(sequential_datasets):\n",
    "    return pd.concat([f_mr1_local, f_h1_local, f_s1_local])"
   ]
  },
  {
   "cell_type": "code",
   "execution_count": 9,
   "id": "82745c59",
   "metadata": {},
   "outputs": [],
   "source": [
    "for job_n in range(0,3):\n",
    "    job_data = []\n",
    "    for dataset in local_datasets:\n",
    "        job_data.append(extract_job_n_data(dataset, job_n, dataset.name))\n",
    "    job_data_concat = pd.concat(job_data)\n",
    "    job_data_concat.to_csv('./benchmarks/job' + str(job_n+1) + '_data.csv')"
   ]
  },
  {
   "cell_type": "code",
   "execution_count": 10,
   "id": "22fd6fd0",
   "metadata": {},
   "outputs": [
    {
     "data": {
      "text/html": [
       "<div>\n",
       "<style scoped>\n",
       "    .dataframe tbody tr th:only-of-type {\n",
       "        vertical-align: middle;\n",
       "    }\n",
       "\n",
       "    .dataframe tbody tr th {\n",
       "        vertical-align: top;\n",
       "    }\n",
       "\n",
       "    .dataframe thead th {\n",
       "        text-align: right;\n",
       "    }\n",
       "</style>\n",
       "<table border=\"1\" class=\"dataframe\">\n",
       "  <thead>\n",
       "    <tr style=\"text-align: right;\">\n",
       "      <th></th>\n",
       "      <th>variable</th>\n",
       "      <th>value</th>\n",
       "      <th>tech</th>\n",
       "    </tr>\n",
       "  </thead>\n",
       "  <tbody>\n",
       "    <tr>\n",
       "      <th>0</th>\n",
       "      <td>239.75</td>\n",
       "      <td>0.948</td>\n",
       "      <td>Mapreduce</td>\n",
       "    </tr>\n",
       "    <tr>\n",
       "      <th>1</th>\n",
       "      <td>479.51</td>\n",
       "      <td>1.679</td>\n",
       "      <td>Mapreduce</td>\n",
       "    </tr>\n",
       "    <tr>\n",
       "      <th>2</th>\n",
       "      <td>959.03</td>\n",
       "      <td>2.915</td>\n",
       "      <td>Mapreduce</td>\n",
       "    </tr>\n",
       "    <tr>\n",
       "      <th>3</th>\n",
       "      <td>1909.97</td>\n",
       "      <td>5.488</td>\n",
       "      <td>Mapreduce</td>\n",
       "    </tr>\n",
       "    <tr>\n",
       "      <th>4</th>\n",
       "      <td>3835.92</td>\n",
       "      <td>10.654</td>\n",
       "      <td>Mapreduce</td>\n",
       "    </tr>\n",
       "  </tbody>\n",
       "</table>\n",
       "</div>"
      ],
      "text/plain": [
       "   variable   value       tech\n",
       "0    239.75   0.948  Mapreduce\n",
       "1    479.51   1.679  Mapreduce\n",
       "2    959.03   2.915  Mapreduce\n",
       "3   1909.97   5.488  Mapreduce\n",
       "4   3835.92  10.654  Mapreduce"
      ]
     },
     "execution_count": 10,
     "metadata": {},
     "output_type": "execute_result"
    }
   ],
   "source": [
    "mr_1 = pd.melt(mapreduce_local.iloc[[0]])\n",
    "f_mr1_local = mr_1.apply(pd.to_numeric)\n",
    "f_mr1_local['tech'] = 'Mapreduce'\n",
    "f_mr1_local"
   ]
  },
  {
   "cell_type": "code",
   "execution_count": 11,
   "id": "f0c0a17b",
   "metadata": {},
   "outputs": [
    {
     "data": {
      "text/html": [
       "<div>\n",
       "<style scoped>\n",
       "    .dataframe tbody tr th:only-of-type {\n",
       "        vertical-align: middle;\n",
       "    }\n",
       "\n",
       "    .dataframe tbody tr th {\n",
       "        vertical-align: top;\n",
       "    }\n",
       "\n",
       "    .dataframe thead th {\n",
       "        text-align: right;\n",
       "    }\n",
       "</style>\n",
       "<table border=\"1\" class=\"dataframe\">\n",
       "  <thead>\n",
       "    <tr style=\"text-align: right;\">\n",
       "      <th></th>\n",
       "      <th>variable</th>\n",
       "      <th>value</th>\n",
       "      <th>tech</th>\n",
       "    </tr>\n",
       "  </thead>\n",
       "  <tbody>\n",
       "    <tr>\n",
       "      <th>0</th>\n",
       "      <td>239.75</td>\n",
       "      <td>1.483</td>\n",
       "      <td>Hive</td>\n",
       "    </tr>\n",
       "    <tr>\n",
       "      <th>1</th>\n",
       "      <td>479.51</td>\n",
       "      <td>2.133</td>\n",
       "      <td>Hive</td>\n",
       "    </tr>\n",
       "    <tr>\n",
       "      <th>2</th>\n",
       "      <td>959.03</td>\n",
       "      <td>4.533</td>\n",
       "      <td>Hive</td>\n",
       "    </tr>\n",
       "    <tr>\n",
       "      <th>3</th>\n",
       "      <td>1909.97</td>\n",
       "      <td>4.550</td>\n",
       "      <td>Hive</td>\n",
       "    </tr>\n",
       "    <tr>\n",
       "      <th>4</th>\n",
       "      <td>3835.92</td>\n",
       "      <td>NaN</td>\n",
       "      <td>Hive</td>\n",
       "    </tr>\n",
       "  </tbody>\n",
       "</table>\n",
       "</div>"
      ],
      "text/plain": [
       "   variable  value  tech\n",
       "0    239.75  1.483  Hive\n",
       "1    479.51  2.133  Hive\n",
       "2    959.03  4.533  Hive\n",
       "3   1909.97  4.550  Hive\n",
       "4   3835.92    NaN  Hive"
      ]
     },
     "execution_count": 11,
     "metadata": {},
     "output_type": "execute_result"
    }
   ],
   "source": [
    "h_1 = pd.melt(hive_local.iloc[[0]])\n",
    "f_h1_local = h_1.apply(pd.to_numeric)\n",
    "f_h1_local['tech'] = 'Hive'\n",
    "f_h1_local"
   ]
  },
  {
   "cell_type": "code",
   "execution_count": 12,
   "id": "4aab32e2",
   "metadata": {},
   "outputs": [
    {
     "data": {
      "text/html": [
       "<div>\n",
       "<style scoped>\n",
       "    .dataframe tbody tr th:only-of-type {\n",
       "        vertical-align: middle;\n",
       "    }\n",
       "\n",
       "    .dataframe tbody tr th {\n",
       "        vertical-align: top;\n",
       "    }\n",
       "\n",
       "    .dataframe thead th {\n",
       "        text-align: right;\n",
       "    }\n",
       "</style>\n",
       "<table border=\"1\" class=\"dataframe\">\n",
       "  <thead>\n",
       "    <tr style=\"text-align: right;\">\n",
       "      <th></th>\n",
       "      <th>variable</th>\n",
       "      <th>value</th>\n",
       "      <th>tech</th>\n",
       "    </tr>\n",
       "  </thead>\n",
       "  <tbody>\n",
       "    <tr>\n",
       "      <th>0</th>\n",
       "      <td>239.75</td>\n",
       "      <td>1.443</td>\n",
       "      <td>Spark</td>\n",
       "    </tr>\n",
       "    <tr>\n",
       "      <th>1</th>\n",
       "      <td>479.51</td>\n",
       "      <td>2.355</td>\n",
       "      <td>Spark</td>\n",
       "    </tr>\n",
       "    <tr>\n",
       "      <th>2</th>\n",
       "      <td>959.03</td>\n",
       "      <td>4.691</td>\n",
       "      <td>Spark</td>\n",
       "    </tr>\n",
       "    <tr>\n",
       "      <th>3</th>\n",
       "      <td>1909.97</td>\n",
       "      <td>9.149</td>\n",
       "      <td>Spark</td>\n",
       "    </tr>\n",
       "    <tr>\n",
       "      <th>4</th>\n",
       "      <td>3835.92</td>\n",
       "      <td>18.967</td>\n",
       "      <td>Spark</td>\n",
       "    </tr>\n",
       "  </tbody>\n",
       "</table>\n",
       "</div>"
      ],
      "text/plain": [
       "   variable   value   tech\n",
       "0    239.75   1.443  Spark\n",
       "1    479.51   2.355  Spark\n",
       "2    959.03   4.691  Spark\n",
       "3   1909.97   9.149  Spark\n",
       "4   3835.92  18.967  Spark"
      ]
     },
     "execution_count": 12,
     "metadata": {},
     "output_type": "execute_result"
    }
   ],
   "source": [
    "s_1 = pd.melt(spark_local.iloc[[0]])\n",
    "f_s1_local = s_1.apply(pd.to_numeric)\n",
    "f_s1_local['tech'] = 'Spark'\n",
    "f_s1_local"
   ]
  },
  {
   "cell_type": "code",
   "execution_count": 13,
   "id": "fee1f015",
   "metadata": {},
   "outputs": [],
   "source": [
    "job1_data = pd.concat([f_mr1_local, f_h1_local, f_s1_local])"
   ]
  },
  {
   "cell_type": "code",
   "execution_count": 14,
   "id": "06761718",
   "metadata": {},
   "outputs": [],
   "source": [
    "job1_data = pd.read_csv('./benchmarks/job1_data.csv')\n",
    "job2_data = pd.read_csv('./benchmarks/job2_data.csv')\n",
    "job3_data = pd.read_csv('./benchmarks/job3_data.csv')"
   ]
  },
  {
   "cell_type": "code",
   "execution_count": 15,
   "id": "9818107e",
   "metadata": {},
   "outputs": [
    {
     "data": {
      "image/png": "[encoded data removed]",
      "text/plain": [
       "<Figure size 432x288 with 1 Axes>"
      ]
     },
     "metadata": {},
     "output_type": "display_data"
    }
   ],
   "source": [
    "fig = sns.lineplot(x='variable', y='value', hue='tech', data=job1_data, marker=\"o\")\n",
    "plt.xlabel(\"Size (MB)\")\n",
    "plt.ylabel(\"Time (Minutes)\")\n",
    "plt.title(\"Job1 Execution Times\")\n",
    "fig.legend(title='Tecnology')\n",
    "plt.show(fig)"
   ]
  },
  {
   "cell_type": "code",
   "execution_count": 16,
   "id": "1540033e",
   "metadata": {},
   "outputs": [
    {
     "data": {
      "image/png": "[encoded data removed]",
      "text/plain": [
       "<Figure size 432x288 with 1 Axes>"
      ]
     },
     "metadata": {},
     "output_type": "display_data"
    }
   ],
   "source": [
    "fig = sns.lineplot(x='variable', y='value', hue='tech', data=job2_data, marker=\"o\")\n",
    "plt.xlabel(\"Size (MB)\")\n",
    "plt.ylabel(\"Time (Minutes)\")\n",
    "plt.title(\"Job2 Execution Times\")\n",
    "fig.legend(title='Tecnology')\n",
    "plt.show(fig)"
   ]
  },
  {
   "cell_type": "code",
   "execution_count": 17,
   "id": "1defb662",
   "metadata": {},
   "outputs": [
    {
     "data": {
      "image/png": "[encoded data removed]",
      "text/plain": [
       "<Figure size 432x288 with 1 Axes>"
      ]
     },
     "metadata": {},
     "output_type": "display_data"
    }
   ],
   "source": [
    "fig = sns.lineplot(x='variable', y='value', hue='tech', data=job3_data, marker=\"o\")\n",
    "plt.xlabel(\"Size (MB)\")\n",
    "plt.ylabel(\"Time (Minutes)\")\n",
    "plt.title(\"Job3 Execution Times\")\n",
    "fig.legend(title='Tecnology')\n",
    "plt.show(fig)"
   ]
  },
  {
   "cell_type": "code",
   "execution_count": null,
   "id": "58322dbf",
   "metadata": {},
   "outputs": [],
   "source": []
  }
 ],
 "metadata": {
  "kernelspec": {
   "display_name": "Python 3",
   "language": "python",
   "name": "python3"
  },
  "language_info": {
   "codemirror_mode": {
    "name": "ipython",
    "version": 3
   },
   "file_extension": ".py",
   "mimetype": "text/x-python",
   "name": "python",
   "nbconvert_exporter": "python",
   "pygments_lexer": "ipython3",
   "version": "3.7.10"
  }
 },
 "nbformat": 4,
 "nbformat_minor": 5
}
