{
 "cells": [
  {
   "cell_type": "markdown",
   "id": "0b45bbbd",
   "metadata": {},
   "source": [
    "# Analisi dei dati iniziale e pulizia"
   ]
  },
  {
   "cell_type": "code",
   "execution_count": 1,
   "id": "f6975c6c",
   "metadata": {},
   "outputs": [],
   "source": [
    "import pandas as pd"
   ]
  },
  {
   "cell_type": "code",
   "execution_count": 2,
   "id": "dee7fc32",
   "metadata": {},
   "outputs": [],
   "source": [
    "stock_prices = pd.read_csv('dataset/historical_stock_prices.csv')\n",
    "stocks = pd.read_csv(\"dataset/historical_stocks.csv\")"
   ]
  },
  {
   "cell_type": "markdown",
   "id": "ea0c954a",
   "metadata": {},
   "source": [
    "## Dataset Historical Stock Prices"
   ]
  },
  {
   "cell_type": "code",
   "execution_count": 5,
   "id": "4860c52c",
   "metadata": {},
   "outputs": [
    {
     "data": {
      "text/html": [
       "<div>\n",
       "<style scoped>\n",
       "    .dataframe tbody tr th:only-of-type {\n",
       "        vertical-align: middle;\n",
       "    }\n",
       "\n",
       "    .dataframe tbody tr th {\n",
       "        vertical-align: top;\n",
       "    }\n",
       "\n",
       "    .dataframe thead th {\n",
       "        text-align: right;\n",
       "    }\n",
       "</style>\n",
       "<table border=\"1\" class=\"dataframe\">\n",
       "  <thead>\n",
       "    <tr style=\"text-align: right;\">\n",
       "      <th></th>\n",
       "      <th>ticker</th>\n",
       "      <th>open</th>\n",
       "      <th>close</th>\n",
       "      <th>adj_close</th>\n",
       "      <th>low</th>\n",
       "      <th>high</th>\n",
       "      <th>volume</th>\n",
       "      <th>date</th>\n",
       "    </tr>\n",
       "  </thead>\n",
       "  <tbody>\n",
       "    <tr>\n",
       "      <th>0</th>\n",
       "      <td>AHH</td>\n",
       "      <td>11.50</td>\n",
       "      <td>11.58</td>\n",
       "      <td>8.493155</td>\n",
       "      <td>11.25</td>\n",
       "      <td>11.68</td>\n",
       "      <td>4633900</td>\n",
       "      <td>2013-05-08</td>\n",
       "    </tr>\n",
       "    <tr>\n",
       "      <th>1</th>\n",
       "      <td>AHH</td>\n",
       "      <td>11.66</td>\n",
       "      <td>11.55</td>\n",
       "      <td>8.471151</td>\n",
       "      <td>11.50</td>\n",
       "      <td>11.66</td>\n",
       "      <td>275800</td>\n",
       "      <td>2013-05-09</td>\n",
       "    </tr>\n",
       "    <tr>\n",
       "      <th>2</th>\n",
       "      <td>AHH</td>\n",
       "      <td>11.55</td>\n",
       "      <td>11.60</td>\n",
       "      <td>8.507822</td>\n",
       "      <td>11.50</td>\n",
       "      <td>11.60</td>\n",
       "      <td>277100</td>\n",
       "      <td>2013-05-10</td>\n",
       "    </tr>\n",
       "    <tr>\n",
       "      <th>3</th>\n",
       "      <td>AHH</td>\n",
       "      <td>11.63</td>\n",
       "      <td>11.65</td>\n",
       "      <td>8.544494</td>\n",
       "      <td>11.55</td>\n",
       "      <td>11.65</td>\n",
       "      <td>147400</td>\n",
       "      <td>2013-05-13</td>\n",
       "    </tr>\n",
       "    <tr>\n",
       "      <th>4</th>\n",
       "      <td>AHH</td>\n",
       "      <td>11.60</td>\n",
       "      <td>11.53</td>\n",
       "      <td>8.456484</td>\n",
       "      <td>11.50</td>\n",
       "      <td>11.60</td>\n",
       "      <td>184100</td>\n",
       "      <td>2013-05-14</td>\n",
       "    </tr>\n",
       "    <tr>\n",
       "      <th>...</th>\n",
       "      <td>...</td>\n",
       "      <td>...</td>\n",
       "      <td>...</td>\n",
       "      <td>...</td>\n",
       "      <td>...</td>\n",
       "      <td>...</td>\n",
       "      <td>...</td>\n",
       "      <td>...</td>\n",
       "    </tr>\n",
       "    <tr>\n",
       "      <th>20973884</th>\n",
       "      <td>NZF</td>\n",
       "      <td>14.60</td>\n",
       "      <td>14.59</td>\n",
       "      <td>14.590000</td>\n",
       "      <td>14.58</td>\n",
       "      <td>14.62</td>\n",
       "      <td>137500</td>\n",
       "      <td>2018-08-20</td>\n",
       "    </tr>\n",
       "    <tr>\n",
       "      <th>20973885</th>\n",
       "      <td>NZF</td>\n",
       "      <td>14.60</td>\n",
       "      <td>14.58</td>\n",
       "      <td>14.580000</td>\n",
       "      <td>14.57</td>\n",
       "      <td>14.61</td>\n",
       "      <td>151200</td>\n",
       "      <td>2018-08-21</td>\n",
       "    </tr>\n",
       "    <tr>\n",
       "      <th>20973886</th>\n",
       "      <td>NZF</td>\n",
       "      <td>14.58</td>\n",
       "      <td>14.59</td>\n",
       "      <td>14.590000</td>\n",
       "      <td>14.57</td>\n",
       "      <td>14.63</td>\n",
       "      <td>185400</td>\n",
       "      <td>2018-08-22</td>\n",
       "    </tr>\n",
       "    <tr>\n",
       "      <th>20973887</th>\n",
       "      <td>NZF</td>\n",
       "      <td>14.60</td>\n",
       "      <td>14.57</td>\n",
       "      <td>14.570000</td>\n",
       "      <td>14.57</td>\n",
       "      <td>14.64</td>\n",
       "      <td>135600</td>\n",
       "      <td>2018-08-23</td>\n",
       "    </tr>\n",
       "    <tr>\n",
       "      <th>20973888</th>\n",
       "      <td>NZF</td>\n",
       "      <td>14.60</td>\n",
       "      <td>14.69</td>\n",
       "      <td>14.690000</td>\n",
       "      <td>14.59</td>\n",
       "      <td>14.69</td>\n",
       "      <td>180900</td>\n",
       "      <td>2018-08-24</td>\n",
       "    </tr>\n",
       "  </tbody>\n",
       "</table>\n",
       "<p>20973889 rows × 8 columns</p>\n",
       "</div>"
      ],
      "text/plain": [
       "         ticker   open  close  adj_close    low   high   volume        date\n",
       "0           AHH  11.50  11.58   8.493155  11.25  11.68  4633900  2013-05-08\n",
       "1           AHH  11.66  11.55   8.471151  11.50  11.66   275800  2013-05-09\n",
       "2           AHH  11.55  11.60   8.507822  11.50  11.60   277100  2013-05-10\n",
       "3           AHH  11.63  11.65   8.544494  11.55  11.65   147400  2013-05-13\n",
       "4           AHH  11.60  11.53   8.456484  11.50  11.60   184100  2013-05-14\n",
       "...         ...    ...    ...        ...    ...    ...      ...         ...\n",
       "20973884    NZF  14.60  14.59  14.590000  14.58  14.62   137500  2018-08-20\n",
       "20973885    NZF  14.60  14.58  14.580000  14.57  14.61   151200  2018-08-21\n",
       "20973886    NZF  14.58  14.59  14.590000  14.57  14.63   185400  2018-08-22\n",
       "20973887    NZF  14.60  14.57  14.570000  14.57  14.64   135600  2018-08-23\n",
       "20973888    NZF  14.60  14.69  14.690000  14.59  14.69   180900  2018-08-24\n",
       "\n",
       "[20973889 rows x 8 columns]"
      ]
     },
     "execution_count": 5,
     "metadata": {},
     "output_type": "execute_result"
    }
   ],
   "source": [
    "stock_prices"
   ]
  },
  {
   "cell_type": "code",
   "execution_count": 7,
   "id": "d8aebe05",
   "metadata": {},
   "outputs": [
    {
     "data": {
      "text/plain": [
       "ticker       0\n",
       "open         0\n",
       "close        0\n",
       "adj_close    0\n",
       "low          0\n",
       "high         0\n",
       "volume       0\n",
       "date         0\n",
       "dtype: int64"
      ]
     },
     "execution_count": 7,
     "metadata": {},
     "output_type": "execute_result"
    }
   ],
   "source": [
    "stock_prices.isna().sum()"
   ]
  },
  {
   "cell_type": "code",
   "execution_count": 8,
   "id": "c2ab994d",
   "metadata": {},
   "outputs": [
    {
     "data": {
      "text/plain": [
       "ticker          5685\n",
       "open          807688\n",
       "close         835181\n",
       "adj_close    9235753\n",
       "low           815237\n",
       "high          821044\n",
       "volume        385849\n",
       "date           12274\n",
       "dtype: int64"
      ]
     },
     "execution_count": 8,
     "metadata": {},
     "output_type": "execute_result"
    }
   ],
   "source": [
    "stock_prices.nunique()"
   ]
  },
  {
   "cell_type": "code",
   "execution_count": 21,
   "id": "25cfd661",
   "metadata": {},
   "outputs": [
    {
     "data": {
      "text/plain": [
       "(0, 8)"
      ]
     },
     "execution_count": 21,
     "metadata": {},
     "output_type": "execute_result"
    }
   ],
   "source": [
    "stock_prices[stock_prices.duplicated(subset=['ticker','date'])].shape"
   ]
  },
  {
   "cell_type": "markdown",
   "id": "0b728430",
   "metadata": {},
   "source": [
    "Non ci sono righe duplicate per lo stesso (ticker, data)"
   ]
  },
  {
   "cell_type": "code",
   "execution_count": 7,
   "id": "d8b8d933",
   "metadata": {},
   "outputs": [],
   "source": [
    "stock_prices_short = stock_prices.head(500000)"
   ]
  },
  {
   "cell_type": "markdown",
   "id": "4312596e",
   "metadata": {},
   "source": [
    "Considero un sottoinsieme del dataset per fare test più rapidi (per verificare la correttezza algoritmica)"
   ]
  },
  {
   "cell_type": "code",
   "execution_count": 8,
   "id": "e74d0ec5",
   "metadata": {},
   "outputs": [
    {
     "data": {
      "text/html": [
       "<div>\n",
       "<style scoped>\n",
       "    .dataframe tbody tr th:only-of-type {\n",
       "        vertical-align: middle;\n",
       "    }\n",
       "\n",
       "    .dataframe tbody tr th {\n",
       "        vertical-align: top;\n",
       "    }\n",
       "\n",
       "    .dataframe thead th {\n",
       "        text-align: right;\n",
       "    }\n",
       "</style>\n",
       "<table border=\"1\" class=\"dataframe\">\n",
       "  <thead>\n",
       "    <tr style=\"text-align: right;\">\n",
       "      <th></th>\n",
       "      <th>ticker</th>\n",
       "      <th>open</th>\n",
       "      <th>close</th>\n",
       "      <th>adj_close</th>\n",
       "      <th>low</th>\n",
       "      <th>high</th>\n",
       "      <th>volume</th>\n",
       "      <th>date</th>\n",
       "    </tr>\n",
       "  </thead>\n",
       "  <tbody>\n",
       "    <tr>\n",
       "      <th>0</th>\n",
       "      <td>AHH</td>\n",
       "      <td>11.500000</td>\n",
       "      <td>11.580000</td>\n",
       "      <td>8.493155</td>\n",
       "      <td>11.250000</td>\n",
       "      <td>11.680000</td>\n",
       "      <td>4633900</td>\n",
       "      <td>2013-05-08</td>\n",
       "    </tr>\n",
       "    <tr>\n",
       "      <th>1</th>\n",
       "      <td>AHH</td>\n",
       "      <td>11.660000</td>\n",
       "      <td>11.550000</td>\n",
       "      <td>8.471151</td>\n",
       "      <td>11.500000</td>\n",
       "      <td>11.660000</td>\n",
       "      <td>275800</td>\n",
       "      <td>2013-05-09</td>\n",
       "    </tr>\n",
       "    <tr>\n",
       "      <th>2</th>\n",
       "      <td>AHH</td>\n",
       "      <td>11.550000</td>\n",
       "      <td>11.600000</td>\n",
       "      <td>8.507822</td>\n",
       "      <td>11.500000</td>\n",
       "      <td>11.600000</td>\n",
       "      <td>277100</td>\n",
       "      <td>2013-05-10</td>\n",
       "    </tr>\n",
       "    <tr>\n",
       "      <th>3</th>\n",
       "      <td>AHH</td>\n",
       "      <td>11.630000</td>\n",
       "      <td>11.650000</td>\n",
       "      <td>8.544494</td>\n",
       "      <td>11.550000</td>\n",
       "      <td>11.650000</td>\n",
       "      <td>147400</td>\n",
       "      <td>2013-05-13</td>\n",
       "    </tr>\n",
       "    <tr>\n",
       "      <th>4</th>\n",
       "      <td>AHH</td>\n",
       "      <td>11.600000</td>\n",
       "      <td>11.530000</td>\n",
       "      <td>8.456484</td>\n",
       "      <td>11.500000</td>\n",
       "      <td>11.600000</td>\n",
       "      <td>184100</td>\n",
       "      <td>2013-05-14</td>\n",
       "    </tr>\n",
       "    <tr>\n",
       "      <th>...</th>\n",
       "      <td>...</td>\n",
       "      <td>...</td>\n",
       "      <td>...</td>\n",
       "      <td>...</td>\n",
       "      <td>...</td>\n",
       "      <td>...</td>\n",
       "      <td>...</td>\n",
       "      <td>...</td>\n",
       "    </tr>\n",
       "    <tr>\n",
       "      <th>499995</th>\n",
       "      <td>AIG</td>\n",
       "      <td>1332.000000</td>\n",
       "      <td>1203.800049</td>\n",
       "      <td>918.031555</td>\n",
       "      <td>1177.400024</td>\n",
       "      <td>1343.000000</td>\n",
       "      <td>2420000</td>\n",
       "      <td>2004-10-14</td>\n",
       "    </tr>\n",
       "    <tr>\n",
       "      <th>499996</th>\n",
       "      <td>AIG</td>\n",
       "      <td>1170.000000</td>\n",
       "      <td>1157.000000</td>\n",
       "      <td>882.341309</td>\n",
       "      <td>1090.000000</td>\n",
       "      <td>1197.599976</td>\n",
       "      <td>3022800</td>\n",
       "      <td>2004-10-15</td>\n",
       "    </tr>\n",
       "    <tr>\n",
       "      <th>499997</th>\n",
       "      <td>AIG</td>\n",
       "      <td>1144.000000</td>\n",
       "      <td>1193.599976</td>\n",
       "      <td>910.252930</td>\n",
       "      <td>1144.000000</td>\n",
       "      <td>1204.000000</td>\n",
       "      <td>1095900</td>\n",
       "      <td>2004-10-18</td>\n",
       "    </tr>\n",
       "    <tr>\n",
       "      <th>499998</th>\n",
       "      <td>AIG</td>\n",
       "      <td>1160.000000</td>\n",
       "      <td>1154.000000</td>\n",
       "      <td>880.053406</td>\n",
       "      <td>1150.000000</td>\n",
       "      <td>1200.199951</td>\n",
       "      <td>933100</td>\n",
       "      <td>2004-10-19</td>\n",
       "    </tr>\n",
       "    <tr>\n",
       "      <th>499999</th>\n",
       "      <td>AIG</td>\n",
       "      <td>1145.199951</td>\n",
       "      <td>1152.000000</td>\n",
       "      <td>878.528259</td>\n",
       "      <td>1124.400024</td>\n",
       "      <td>1157.199951</td>\n",
       "      <td>1061700</td>\n",
       "      <td>2004-10-20</td>\n",
       "    </tr>\n",
       "  </tbody>\n",
       "</table>\n",
       "<p>500000 rows × 8 columns</p>\n",
       "</div>"
      ],
      "text/plain": [
       "       ticker         open        close   adj_close          low         high  \\\n",
       "0         AHH    11.500000    11.580000    8.493155    11.250000    11.680000   \n",
       "1         AHH    11.660000    11.550000    8.471151    11.500000    11.660000   \n",
       "2         AHH    11.550000    11.600000    8.507822    11.500000    11.600000   \n",
       "3         AHH    11.630000    11.650000    8.544494    11.550000    11.650000   \n",
       "4         AHH    11.600000    11.530000    8.456484    11.500000    11.600000   \n",
       "...       ...          ...          ...         ...          ...          ...   \n",
       "499995    AIG  1332.000000  1203.800049  918.031555  1177.400024  1343.000000   \n",
       "499996    AIG  1170.000000  1157.000000  882.341309  1090.000000  1197.599976   \n",
       "499997    AIG  1144.000000  1193.599976  910.252930  1144.000000  1204.000000   \n",
       "499998    AIG  1160.000000  1154.000000  880.053406  1150.000000  1200.199951   \n",
       "499999    AIG  1145.199951  1152.000000  878.528259  1124.400024  1157.199951   \n",
       "\n",
       "         volume        date  \n",
       "0       4633900  2013-05-08  \n",
       "1        275800  2013-05-09  \n",
       "2        277100  2013-05-10  \n",
       "3        147400  2013-05-13  \n",
       "4        184100  2013-05-14  \n",
       "...         ...         ...  \n",
       "499995  2420000  2004-10-14  \n",
       "499996  3022800  2004-10-15  \n",
       "499997  1095900  2004-10-18  \n",
       "499998   933100  2004-10-19  \n",
       "499999  1061700  2004-10-20  \n",
       "\n",
       "[500000 rows x 8 columns]"
      ]
     },
     "execution_count": 8,
     "metadata": {},
     "output_type": "execute_result"
    }
   ],
   "source": [
    "stock_prices_short"
   ]
  },
  {
   "cell_type": "code",
   "execution_count": 9,
   "id": "0203c936",
   "metadata": {},
   "outputs": [],
   "source": [
    "stock_prices_short.to_csv('dataset/historical_stock_prices_short.csv', index=False)"
   ]
  },
  {
   "cell_type": "code",
   "execution_count": 10,
   "id": "852b3e9c",
   "metadata": {},
   "outputs": [],
   "source": [
    "stock_prices_tiny = stock_prices.head(5)"
   ]
  },
  {
   "cell_type": "code",
   "execution_count": 11,
   "id": "c5ffaca1",
   "metadata": {},
   "outputs": [],
   "source": [
    "stock_prices_tiny.to_csv('dataset/historical_stock_prices_tiny.csv', index=False)"
   ]
  },
  {
   "cell_type": "markdown",
   "id": "f710752a",
   "metadata": {},
   "source": [
    "## Dataset Historical Stocks"
   ]
  },
  {
   "cell_type": "code",
   "execution_count": 6,
   "id": "8172cad6",
   "metadata": {
    "scrolled": false
   },
   "outputs": [
    {
     "data": {
      "text/html": [
       "<div>\n",
       "<style scoped>\n",
       "    .dataframe tbody tr th:only-of-type {\n",
       "        vertical-align: middle;\n",
       "    }\n",
       "\n",
       "    .dataframe tbody tr th {\n",
       "        vertical-align: top;\n",
       "    }\n",
       "\n",
       "    .dataframe thead th {\n",
       "        text-align: right;\n",
       "    }\n",
       "</style>\n",
       "<table border=\"1\" class=\"dataframe\">\n",
       "  <thead>\n",
       "    <tr style=\"text-align: right;\">\n",
       "      <th></th>\n",
       "      <th>ticker</th>\n",
       "      <th>exchange</th>\n",
       "      <th>name</th>\n",
       "      <th>sector</th>\n",
       "      <th>industry</th>\n",
       "    </tr>\n",
       "  </thead>\n",
       "  <tbody>\n",
       "    <tr>\n",
       "      <th>0</th>\n",
       "      <td>PIH</td>\n",
       "      <td>NASDAQ</td>\n",
       "      <td>1347 PROPERTY INSURANCE HOLDINGS, INC.</td>\n",
       "      <td>FINANCE</td>\n",
       "      <td>PROPERTY-CASUALTY INSURERS</td>\n",
       "    </tr>\n",
       "    <tr>\n",
       "      <th>1</th>\n",
       "      <td>PIHPP</td>\n",
       "      <td>NASDAQ</td>\n",
       "      <td>1347 PROPERTY INSURANCE HOLDINGS, INC.</td>\n",
       "      <td>FINANCE</td>\n",
       "      <td>PROPERTY-CASUALTY INSURERS</td>\n",
       "    </tr>\n",
       "    <tr>\n",
       "      <th>2</th>\n",
       "      <td>TURN</td>\n",
       "      <td>NASDAQ</td>\n",
       "      <td>180 DEGREE CAPITAL CORP.</td>\n",
       "      <td>FINANCE</td>\n",
       "      <td>FINANCE/INVESTORS SERVICES</td>\n",
       "    </tr>\n",
       "    <tr>\n",
       "      <th>3</th>\n",
       "      <td>FLWS</td>\n",
       "      <td>NASDAQ</td>\n",
       "      <td>1-800 FLOWERS.COM, INC.</td>\n",
       "      <td>CONSUMER SERVICES</td>\n",
       "      <td>OTHER SPECIALTY STORES</td>\n",
       "    </tr>\n",
       "    <tr>\n",
       "      <th>4</th>\n",
       "      <td>FCCY</td>\n",
       "      <td>NASDAQ</td>\n",
       "      <td>1ST CONSTITUTION BANCORP (NJ)</td>\n",
       "      <td>FINANCE</td>\n",
       "      <td>SAVINGS INSTITUTIONS</td>\n",
       "    </tr>\n",
       "    <tr>\n",
       "      <th>...</th>\n",
       "      <td>...</td>\n",
       "      <td>...</td>\n",
       "      <td>...</td>\n",
       "      <td>...</td>\n",
       "      <td>...</td>\n",
       "    </tr>\n",
       "    <tr>\n",
       "      <th>6455</th>\n",
       "      <td>ZOES</td>\n",
       "      <td>NYSE</td>\n",
       "      <td>ZOE&amp;#39;S KITCHEN, INC.</td>\n",
       "      <td>CONSUMER SERVICES</td>\n",
       "      <td>RESTAURANTS</td>\n",
       "    </tr>\n",
       "    <tr>\n",
       "      <th>6456</th>\n",
       "      <td>ZTS</td>\n",
       "      <td>NYSE</td>\n",
       "      <td>ZOETIS INC.</td>\n",
       "      <td>HEALTH CARE</td>\n",
       "      <td>MAJOR PHARMACEUTICALS</td>\n",
       "    </tr>\n",
       "    <tr>\n",
       "      <th>6457</th>\n",
       "      <td>ZTO</td>\n",
       "      <td>NYSE</td>\n",
       "      <td>ZTO EXPRESS (CAYMAN) INC.</td>\n",
       "      <td>TRANSPORTATION</td>\n",
       "      <td>TRUCKING FREIGHT/COURIER SERVICES</td>\n",
       "    </tr>\n",
       "    <tr>\n",
       "      <th>6458</th>\n",
       "      <td>ZUO</td>\n",
       "      <td>NYSE</td>\n",
       "      <td>ZUORA, INC.</td>\n",
       "      <td>TECHNOLOGY</td>\n",
       "      <td>COMPUTER SOFTWARE: PREPACKAGED SOFTWARE</td>\n",
       "    </tr>\n",
       "    <tr>\n",
       "      <th>6459</th>\n",
       "      <td>ZYME</td>\n",
       "      <td>NYSE</td>\n",
       "      <td>ZYMEWORKS INC.</td>\n",
       "      <td>HEALTH CARE</td>\n",
       "      <td>MAJOR PHARMACEUTICALS</td>\n",
       "    </tr>\n",
       "  </tbody>\n",
       "</table>\n",
       "<p>6460 rows × 5 columns</p>\n",
       "</div>"
      ],
      "text/plain": [
       "     ticker exchange                                    name  \\\n",
       "0       PIH   NASDAQ  1347 PROPERTY INSURANCE HOLDINGS, INC.   \n",
       "1     PIHPP   NASDAQ  1347 PROPERTY INSURANCE HOLDINGS, INC.   \n",
       "2      TURN   NASDAQ                180 DEGREE CAPITAL CORP.   \n",
       "3      FLWS   NASDAQ                 1-800 FLOWERS.COM, INC.   \n",
       "4      FCCY   NASDAQ           1ST CONSTITUTION BANCORP (NJ)   \n",
       "...     ...      ...                                     ...   \n",
       "6455   ZOES     NYSE                 ZOE&#39;S KITCHEN, INC.   \n",
       "6456    ZTS     NYSE                             ZOETIS INC.   \n",
       "6457    ZTO     NYSE               ZTO EXPRESS (CAYMAN) INC.   \n",
       "6458    ZUO     NYSE                             ZUORA, INC.   \n",
       "6459   ZYME     NYSE                          ZYMEWORKS INC.   \n",
       "\n",
       "                 sector                                 industry  \n",
       "0               FINANCE               PROPERTY-CASUALTY INSURERS  \n",
       "1               FINANCE               PROPERTY-CASUALTY INSURERS  \n",
       "2               FINANCE               FINANCE/INVESTORS SERVICES  \n",
       "3     CONSUMER SERVICES                   OTHER SPECIALTY STORES  \n",
       "4               FINANCE                     SAVINGS INSTITUTIONS  \n",
       "...                 ...                                      ...  \n",
       "6455  CONSUMER SERVICES                              RESTAURANTS  \n",
       "6456        HEALTH CARE                    MAJOR PHARMACEUTICALS  \n",
       "6457     TRANSPORTATION        TRUCKING FREIGHT/COURIER SERVICES  \n",
       "6458         TECHNOLOGY  COMPUTER SOFTWARE: PREPACKAGED SOFTWARE  \n",
       "6459        HEALTH CARE                    MAJOR PHARMACEUTICALS  \n",
       "\n",
       "[6460 rows x 5 columns]"
      ]
     },
     "execution_count": 6,
     "metadata": {},
     "output_type": "execute_result"
    }
   ],
   "source": [
    "stocks"
   ]
  },
  {
   "cell_type": "code",
   "execution_count": 23,
   "id": "b8de07c0",
   "metadata": {},
   "outputs": [
    {
     "data": {
      "text/plain": [
       "(998, 5)"
      ]
     },
     "execution_count": 23,
     "metadata": {},
     "output_type": "execute_result"
    }
   ],
   "source": [
    "stocks[stocks.duplicated(subset=['name'])].shape"
   ]
  },
  {
   "cell_type": "markdown",
   "id": "6c4a238d",
   "metadata": {},
   "source": [
    "Ci sono 998 valori per la colonna name che sono uguali ad altri nel dataset (duplicati). La colonna name non si può usare come chiave per il job3 (verrà usato il ticker)"
   ]
  },
  {
   "cell_type": "code",
   "execution_count": 6,
   "id": "d4f02095",
   "metadata": {
    "scrolled": true
   },
   "outputs": [
    {
     "data": {
      "text/plain": [
       "ticker         0\n",
       "exchange       0\n",
       "name           0\n",
       "sector      1440\n",
       "industry    1440\n",
       "dtype: int64"
      ]
     },
     "execution_count": 6,
     "metadata": {},
     "output_type": "execute_result"
    }
   ],
   "source": [
    "stocks.isna().sum()"
   ]
  },
  {
   "cell_type": "markdown",
   "id": "491ceefb",
   "metadata": {},
   "source": [
    "Il dataset che associa i ticker ai settori (stocks) contiene dei settori nulli. Le righe di stock_prices corrispondenti dovranno essere ignorate almeno per il secondo job, che richiede di generare un report per ogni settore."
   ]
  },
  {
   "cell_type": "code",
   "execution_count": 9,
   "id": "478be04e",
   "metadata": {},
   "outputs": [
    {
     "data": {
      "text/plain": [
       "ticker      6460\n",
       "exchange       2\n",
       "name        5462\n",
       "sector        13\n",
       "industry     136\n",
       "dtype: int64"
      ]
     },
     "execution_count": 9,
     "metadata": {},
     "output_type": "execute_result"
    }
   ],
   "source": [
    "stocks.nunique()"
   ]
  },
  {
   "cell_type": "markdown",
   "id": "a91f28ab",
   "metadata": {},
   "source": [
    "I valori dei ticker sono univoci nel dataset (6460, come lo shape del dataset), quelli dei nomi presentano ripetizioni"
   ]
  },
  {
   "cell_type": "code",
   "execution_count": 7,
   "id": "ca5e7a90",
   "metadata": {},
   "outputs": [
    {
     "data": {
      "text/plain": [
       "array(['FINANCE', 'CONSUMER SERVICES', 'TECHNOLOGY', 'PUBLIC UTILITIES',\n",
       "       'CAPITAL GOODS', 'BASIC INDUSTRIES', 'HEALTH CARE',\n",
       "       'CONSUMER DURABLES', nan, 'ENERGY', 'MISCELLANEOUS', 'SECTOR',\n",
       "       'TRANSPORTATION', 'CONSUMER NON-DURABLES'], dtype=object)"
      ]
     },
     "execution_count": 7,
     "metadata": {},
     "output_type": "execute_result"
    }
   ],
   "source": [
    "stocks['sector'].unique()"
   ]
  },
  {
   "cell_type": "code",
   "execution_count": 16,
   "id": "e4376d34",
   "metadata": {},
   "outputs": [
    {
     "data": {
      "text/html": [
       "<div>\n",
       "<style scoped>\n",
       "    .dataframe tbody tr th:only-of-type {\n",
       "        vertical-align: middle;\n",
       "    }\n",
       "\n",
       "    .dataframe tbody tr th {\n",
       "        vertical-align: top;\n",
       "    }\n",
       "\n",
       "    .dataframe thead th {\n",
       "        text-align: right;\n",
       "    }\n",
       "</style>\n",
       "<table border=\"1\" class=\"dataframe\">\n",
       "  <thead>\n",
       "    <tr style=\"text-align: right;\">\n",
       "      <th></th>\n",
       "      <th>ticker</th>\n",
       "      <th>exchange</th>\n",
       "      <th>name</th>\n",
       "      <th>sector</th>\n",
       "      <th>industry</th>\n",
       "    </tr>\n",
       "  </thead>\n",
       "  <tbody>\n",
       "    <tr>\n",
       "      <th>0</th>\n",
       "      <td>PIH</td>\n",
       "      <td>NASDAQ</td>\n",
       "      <td>1347 PROPERTY INSURANCE HOLDINGS, INC.</td>\n",
       "      <td>FINANCE</td>\n",
       "      <td>PROPERTY-CASUALTY INSURERS</td>\n",
       "    </tr>\n",
       "    <tr>\n",
       "      <th>1</th>\n",
       "      <td>PIHPP</td>\n",
       "      <td>NASDAQ</td>\n",
       "      <td>1347 PROPERTY INSURANCE HOLDINGS, INC.</td>\n",
       "      <td>FINANCE</td>\n",
       "      <td>PROPERTY-CASUALTY INSURERS</td>\n",
       "    </tr>\n",
       "    <tr>\n",
       "      <th>2</th>\n",
       "      <td>TURN</td>\n",
       "      <td>NASDAQ</td>\n",
       "      <td>180 DEGREE CAPITAL CORP.</td>\n",
       "      <td>FINANCE</td>\n",
       "      <td>FINANCE/INVESTORS SERVICES</td>\n",
       "    </tr>\n",
       "    <tr>\n",
       "      <th>3</th>\n",
       "      <td>FLWS</td>\n",
       "      <td>NASDAQ</td>\n",
       "      <td>1-800 FLOWERS.COM, INC.</td>\n",
       "      <td>CONSUMER SERVICES</td>\n",
       "      <td>OTHER SPECIALTY STORES</td>\n",
       "    </tr>\n",
       "    <tr>\n",
       "      <th>4</th>\n",
       "      <td>FCCY</td>\n",
       "      <td>NASDAQ</td>\n",
       "      <td>1ST CONSTITUTION BANCORP (NJ)</td>\n",
       "      <td>FINANCE</td>\n",
       "      <td>SAVINGS INSTITUTIONS</td>\n",
       "    </tr>\n",
       "    <tr>\n",
       "      <th>...</th>\n",
       "      <td>...</td>\n",
       "      <td>...</td>\n",
       "      <td>...</td>\n",
       "      <td>...</td>\n",
       "      <td>...</td>\n",
       "    </tr>\n",
       "    <tr>\n",
       "      <th>6455</th>\n",
       "      <td>ZOES</td>\n",
       "      <td>NYSE</td>\n",
       "      <td>ZOE&amp;#39;S KITCHEN, INC.</td>\n",
       "      <td>CONSUMER SERVICES</td>\n",
       "      <td>RESTAURANTS</td>\n",
       "    </tr>\n",
       "    <tr>\n",
       "      <th>6456</th>\n",
       "      <td>ZTS</td>\n",
       "      <td>NYSE</td>\n",
       "      <td>ZOETIS INC.</td>\n",
       "      <td>HEALTH CARE</td>\n",
       "      <td>MAJOR PHARMACEUTICALS</td>\n",
       "    </tr>\n",
       "    <tr>\n",
       "      <th>6457</th>\n",
       "      <td>ZTO</td>\n",
       "      <td>NYSE</td>\n",
       "      <td>ZTO EXPRESS (CAYMAN) INC.</td>\n",
       "      <td>TRANSPORTATION</td>\n",
       "      <td>TRUCKING FREIGHT/COURIER SERVICES</td>\n",
       "    </tr>\n",
       "    <tr>\n",
       "      <th>6458</th>\n",
       "      <td>ZUO</td>\n",
       "      <td>NYSE</td>\n",
       "      <td>ZUORA, INC.</td>\n",
       "      <td>TECHNOLOGY</td>\n",
       "      <td>COMPUTER SOFTWARE: PREPACKAGED SOFTWARE</td>\n",
       "    </tr>\n",
       "    <tr>\n",
       "      <th>6459</th>\n",
       "      <td>ZYME</td>\n",
       "      <td>NYSE</td>\n",
       "      <td>ZYMEWORKS INC.</td>\n",
       "      <td>HEALTH CARE</td>\n",
       "      <td>MAJOR PHARMACEUTICALS</td>\n",
       "    </tr>\n",
       "  </tbody>\n",
       "</table>\n",
       "<p>5020 rows × 5 columns</p>\n",
       "</div>"
      ],
      "text/plain": [
       "     ticker exchange                                    name  \\\n",
       "0       PIH   NASDAQ  1347 PROPERTY INSURANCE HOLDINGS, INC.   \n",
       "1     PIHPP   NASDAQ  1347 PROPERTY INSURANCE HOLDINGS, INC.   \n",
       "2      TURN   NASDAQ                180 DEGREE CAPITAL CORP.   \n",
       "3      FLWS   NASDAQ                 1-800 FLOWERS.COM, INC.   \n",
       "4      FCCY   NASDAQ           1ST CONSTITUTION BANCORP (NJ)   \n",
       "...     ...      ...                                     ...   \n",
       "6455   ZOES     NYSE                 ZOE&#39;S KITCHEN, INC.   \n",
       "6456    ZTS     NYSE                             ZOETIS INC.   \n",
       "6457    ZTO     NYSE               ZTO EXPRESS (CAYMAN) INC.   \n",
       "6458    ZUO     NYSE                             ZUORA, INC.   \n",
       "6459   ZYME     NYSE                          ZYMEWORKS INC.   \n",
       "\n",
       "                 sector                                 industry  \n",
       "0               FINANCE               PROPERTY-CASUALTY INSURERS  \n",
       "1               FINANCE               PROPERTY-CASUALTY INSURERS  \n",
       "2               FINANCE               FINANCE/INVESTORS SERVICES  \n",
       "3     CONSUMER SERVICES                   OTHER SPECIALTY STORES  \n",
       "4               FINANCE                     SAVINGS INSTITUTIONS  \n",
       "...                 ...                                      ...  \n",
       "6455  CONSUMER SERVICES                              RESTAURANTS  \n",
       "6456        HEALTH CARE                    MAJOR PHARMACEUTICALS  \n",
       "6457     TRANSPORTATION        TRUCKING FREIGHT/COURIER SERVICES  \n",
       "6458         TECHNOLOGY  COMPUTER SOFTWARE: PREPACKAGED SOFTWARE  \n",
       "6459        HEALTH CARE                    MAJOR PHARMACEUTICALS  \n",
       "\n",
       "[5020 rows x 5 columns]"
      ]
     },
     "execution_count": 16,
     "metadata": {},
     "output_type": "execute_result"
    }
   ],
   "source": [
    "stocks_clean = stocks.loc[(stocks['sector'].notna())]\n",
    "stocks_clean"
   ]
  },
  {
   "cell_type": "markdown",
   "id": "6275ad65",
   "metadata": {},
   "source": [
    "Eliminate le righe con valori di sector nulle dal dataset"
   ]
  },
  {
   "cell_type": "code",
   "execution_count": 17,
   "id": "339c9184",
   "metadata": {},
   "outputs": [],
   "source": [
    "stocks_clean.to_csv('dataset/historical_stocks_clean.csv', index=False)"
   ]
  },
  {
   "cell_type": "code",
   "execution_count": null,
   "id": "90274b74",
   "metadata": {},
   "outputs": [],
   "source": []
  }
 ],
 "metadata": {
  "kernelspec": {
   "display_name": "Python 3",
   "language": "python",
   "name": "python3"
  },
  "language_info": {
   "codemirror_mode": {
    "name": "ipython",
    "version": 3
   },
   "file_extension": ".py",
   "mimetype": "text/x-python",
   "name": "python",
   "nbconvert_exporter": "python",
   "pygments_lexer": "ipython3",
   "version": "3.7.10"
  }
 },
 "nbformat": 4,
 "nbformat_minor": 5
}
