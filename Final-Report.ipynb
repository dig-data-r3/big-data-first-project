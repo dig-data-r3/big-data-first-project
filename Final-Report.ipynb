{
 "cells": [
  {
   "cell_type": "markdown",
   "metadata": {},
   "source": [
    "# Relazione Finale - Gruppo Dig Data\n",
    "### Alexandru Pavel, Simone Garzarella"
   ]
  },
  {
   "cell_type": "markdown",
   "metadata": {},
   "source": [
    "# Indice\n",
    "- [1. Introduzione](#introduction)\n",
    "    *  [1.1. Descrizione Problema](#problem-description)\n",
    "    *  [1.2. Specifiche Software](#sw-specs)\n",
    "    *  [1.3. Specifiche Software](#hw-specs)\n",
    "- [2. Analisi Dataset](#data-analysis)\n",
    "    * [2.1. Historical Stock Prices](#hsp)\n",
    "    * [2.2. Historical Stocks](#hs)\n",
    "- [3. Job 1](#job1)\n",
    "    * [3.1. MapReduce](#mapreduce1)\n",
    "    * [3.2. Hive](#hive1)\n",
    "    * [3.3. Spark](#spark1)\n",
    "- [4. Job 2](#job2)\n",
    "    * [4.1. MapReduce](#mapreduce2)\n",
    "    * [4.2. Hive](#hive2)\n",
    "    * [4.3. Spark](#spark2)\n",
    "- [5. Job 3](#job3)\n",
    "    * [5.1. MapReduce](#mapreduce3)\n",
    "    * [5.2. Hive](#hive3)\n",
    "    * [5.3. Spark](#spark3)\n",
    "- [6. Grafici Finali](#plots)\n",
    "    * [6.1. Tipo1](#plot1)\n",
    "    * [6.2. Tipo2](#plot2)\n",
    "    * [6.3. Tipo3](#plot3)\n",
    "- [7. Conclusioni](#conclusions)"
   ]
  },
  {
   "cell_type": "markdown",
   "metadata": {},
   "source": [
    "## 1. Introduzione <a name=\"introduction\"></a>\n",
    "Some introduction text, formatted in heading 2 style\n",
    "### 1.1. Descrizione Problema <a name=\"problem-description\"></a>\n",
    "This is a sub paragraph, formatted in heading 3 style\n",
    "### 1.2. Specifiche Software <a name=\"sw-specs\"></a>\n",
    "This is a sub paragraph, formatted in heading 3 style\n",
    "### 1.3. Specifiche Hardware <a name=\"hw-specs\"></a>\n",
    "This is a sub paragraph, formatted in heading 3 style"
   ]
  },
  {
   "cell_type": "markdown",
   "metadata": {},
   "source": [
    "## 2. Analisi Dataset <a name=\"data-analysis\"></a>\n",
    "The first paragraph text\n",
    "\n",
    "### 2.1. Historical Stock Prices <a name=\"hsp\"></a>\n",
    "This is a sub paragraph, formatted in heading 3 style\n",
    "\n",
    "### 2.2. Historical Stocks <a name=\"hs\"></a>\n",
    "This is a sub paragraph, formatted in heading 3 style"
   ]
  },
  {
   "cell_type": "markdown",
   "metadata": {},
   "source": [
    "## 3. Job 1 <a name=\"job1\"></a>\n",
    "The first paragraph text\n",
    "\n",
    "### 3.1. MapReduce <a name=\"mapreduce1\"></a>\n",
    "This is a sub paragraph, formatted in heading 3 style\n",
    "\n",
    "### 3.2. Hive <a name=\"hive1\"></a>\n",
    "This is a sub paragraph, formatted in heading 3 style\n",
    "\n",
    "### 3.3. Spark <a name=\"spark1\"></a>\n",
    "This is a sub paragraph, formatted in heading 3 style"
   ]
  },
  {
   "cell_type": "markdown",
   "metadata": {},
   "source": []
  },
  {
   "cell_type": "markdown",
   "metadata": {},
   "source": [
    "## 4. Job 2 <a name=\"job2\"></a>\n",
    "The first paragraph text\n",
    "\n",
    "### 4.1. MapReduce <a name=\"mapreduce2\"></a>\n",
    "This is a sub paragraph, formatted in heading 3 style\n",
    "\n",
    "### 4.2. Hive <a name=\"hive2\"></a>\n",
    "This is a sub paragraph, formatted in heading 3 style\n",
    "\n",
    "### 4.3. Spark <a name=\"spark2\"></a>\n",
    "This is a sub paragraph, formatted in heading 3 style"
   ]
  },
  {
   "cell_type": "markdown",
   "metadata": {},
   "source": [
    "## 5. Job 3 <a name=\"job3\"></a>\n",
    "The first paragraph text\n",
    "\n",
    "### 5.1. MapReduce <a name=\"mapreduce3\"></a>\n",
    "This is a sub paragraph, formatted in heading 3 style\n",
    "\n",
    "### 5.2. Hive <a name=\"hive3\"></a>\n",
    "This is a sub paragraph, formatted in heading 3 style\n",
    "\n",
    "### 5.3. Spark <a name=\"spark3\"></a>\n",
    "This is a sub paragraph, formatted in heading 3 style"
   ]
  },
  {
   "cell_type": "markdown",
   "metadata": {},
   "source": [
    "## 6. Grafici <a name=\"plots\"></a>\n",
    "The first paragraph text\n",
    "\n",
    "### 6.1. MapReduce <a name=\"plot1\"></a>\n",
    "This is a sub paragraph, formatted in heading 3 style\n",
    "\n",
    "### 6.2. Hive <a name=\"plot2\"></a>\n",
    "This is a sub paragraph, formatted in heading 3 style\n",
    "\n",
    "### 6.3. Spark <a name=\"plot3\"></a>\n",
    "This is a sub paragraph, formatted in heading 3 style"
   ]
  },
  {
   "cell_type": "markdown",
   "metadata": {},
   "source": [
    "## 7. Conclusioni <a name=\"conclusions\"></a>\n",
    "The first paragraph text\n"
   ]
  },
  {
   "cell_type": "code",
   "execution_count": null,
   "metadata": {},
   "outputs": [],
   "source": []
  }
 ],
 "metadata": {
  "kernelspec": {
   "display_name": "Python 3",
   "language": "python",
   "name": "python3"
  },
  "language_info": {
   "codemirror_mode": {
    "name": "ipython",
    "version": 3
   },
   "file_extension": ".py",
   "mimetype": "text/x-python",
   "name": "python",
   "nbconvert_exporter": "python",
   "pygments_lexer": "ipython3",
   "version": "3.8.5"
  }
 },
 "nbformat": 4,
 "nbformat_minor": 4
}
