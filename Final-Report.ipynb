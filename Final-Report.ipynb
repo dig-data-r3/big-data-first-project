{
 "cells": [
  {
   "cell_type": "markdown",
   "metadata": {},
   "source": [
    "# Relazione Finale - Gruppo Dig Data\n",
    "Componenti Gruppo - Alexandru Pavel, Simone Garzarella"
   ]
  },
  {
   "cell_type": "markdown",
   "metadata": {},
   "source": [
    "# Indice\n",
    "TODO: Mettere i numeri sezioni solo qui per chiarezza ulteriore (anche se non serve)\n",
    "- [Introduzione](#introduction)\n",
    "    *  [Descrizione Problema](#problem-description)\n",
    "    *  [Specifiche Software](#sw-specs)\n",
    "    *  [Specifiche Software](#hw-specs)\n",
    "- [Analisi Dataset](#data-analysis)\n",
    "    * [Historical Stock Prices](#hsp)\n",
    "    * [Historical Stocks](#hs)\n",
    "- [Job 1](#job1)\n",
    "    * [MapReduce](#mapreduce1)\n",
    "    * [Hive](#hive1)\n",
    "    * [Spark](#spark1)\n",
    "- [Job 2](#job2)\n",
    "    * [MapReduce](#mapreduce2)\n",
    "    * [Hive](#hive2)\n",
    "    * [Spark](#spark2)\n",
    "- [Job 3](#job3)\n",
    "    * [MapReduce](#mapreduce3)\n",
    "    * [Hive](#hive3)\n",
    "    * [Spark](#spark3)\n",
    "- [Grafici Finali](#plots)\n",
    "    * [Tipo1](#plot1)\n",
    "    * [Tipo2](#plot2)\n",
    "    * [Tipo3](#plot3)\n",
    "- [Conclusioni](#conclusions)"
   ]
  },
  {
   "cell_type": "markdown",
   "metadata": {},
   "source": [
    "# Introduzione <a name=\"introduction\"></a>\n",
    "Some introduction text, formatted in heading 2 style\n",
    "\n",
    "## Descrizione Problema <a name=\"problem-description\"></a>\n",
    "This is a sub paragraph, formatted in heading 3 style\n",
    "\n",
    "## Specifiche Software <a name=\"sw-specs\"></a>\n",
    "This is a sub paragraph, formatted in heading 3 style\n",
    "\n",
    "## Specifiche Hardware <a name=\"hw-specs\"></a>\n",
    "This is a sub paragraph, formatted in heading 3 style"
   ]
  },
  {
   "cell_type": "markdown",
   "metadata": {},
   "source": [
    "# Analisi Dataset <a name=\"data-analysis\"></a>\n",
    "The first paragraph text\n",
    "\n",
    "## Historical Stock Prices <a name=\"hsp\"></a>\n",
    "This is a sub paragraph, formatted in heading 3 style\n",
    "\n",
    "## Historical Stocks <a name=\"hs\"></a>\n",
    "This is a sub paragraph, formatted in heading 3 style"
   ]
  },
  {
   "cell_type": "markdown",
   "metadata": {},
   "source": [
    "# Job 1 <a name=\"job1\"></a>\n",
    "The first paragraph text\n",
    "\n",
    "## MapReduce <a name=\"mapreduce1\"></a>\n",
    "This is a sub paragraph, formatted in heading 3 style\n",
    "\n",
    "## Hive <a name=\"hive1\"></a>\n",
    "This is a sub paragraph, formatted in heading 3 style\n",
    "\n",
    "## Spark <a name=\"spark1\"></a>\n",
    "This is a sub paragraph, formatted in heading 3 style"
   ]
  },
  {
   "cell_type": "markdown",
   "metadata": {},
   "source": [
    "# Job 2 <a name=\"job2\"></a>\n",
    "The first paragraph text\n",
    "\n",
    "## MapReduce <a name=\"mapreduce2\"></a>\n",
    "This is a sub paragraph, formatted in heading 3 style\n",
    "\n",
    "## Hive <a name=\"hive2\"></a>\n",
    "This is a sub paragraph, formatted in heading 3 style\n",
    "\n",
    "## Spark <a name=\"spark2\"></a>\n",
    "This is a sub paragraph, formatted in heading 3 style"
   ]
  },
  {
   "cell_type": "markdown",
   "metadata": {},
   "source": [
    "# Job 3 <a name=\"job3\"></a>\n",
    "The first paragraph text\n",
    "\n",
    "## MapReduce <a name=\"mapreduce3\"></a>\n",
    "This is a sub paragraph, formatted in heading 3 style\n",
    "\n",
    "## Hive <a name=\"hive3\"></a>\n",
    "This is a sub paragraph, formatted in heading 3 style\n",
    "\n",
    "## Spark <a name=\"spark3\"></a>\n",
    "This is a sub paragraph, formatted in heading 3 style"
   ]
  },
  {
   "cell_type": "markdown",
   "metadata": {},
   "source": [
    "# Grafici <a name=\"plots\"></a>\n",
    "The first paragraph text\n",
    "\n",
    "## MapReduce <a name=\"plot1\"></a>\n",
    "This is a sub paragraph, formatted in heading 3 style\n",
    "\n",
    "## Hive <a name=\"plot2\"></a>\n",
    "This is a sub paragraph, formatted in heading 3 style\n",
    "\n",
    "## Spark <a name=\"plot3\"></a>\n",
    "This is a sub paragraph, formatted in heading 3 style"
   ]
  },
  {
   "cell_type": "markdown",
   "metadata": {},
   "source": [
    "# Conclusioni <a name=\"conclusions\"></a>\n",
    "The first paragraph text\n"
   ]
  },
  {
   "cell_type": "code",
   "execution_count": null,
   "metadata": {},
   "outputs": [],
   "source": []
  }
 ],
 "metadata": {
  "kernelspec": {
   "display_name": "Python 3",
   "language": "python",
   "name": "python3"
  },
  "language_info": {
   "codemirror_mode": {
    "name": "ipython",
    "version": 3
   },
   "file_extension": ".py",
   "mimetype": "text/x-python",
   "name": "python",
   "nbconvert_exporter": "python",
   "pygments_lexer": "ipython3",
   "version": "3.8.5"
  }
 },
 "nbformat": 4,
 "nbformat_minor": 4
}
